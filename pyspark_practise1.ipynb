{
 "cells": [
  {
   "cell_type": "markdown",
   "metadata": {},
   "source": [
    "### creating a spark instance"
   ]
  },
  {
   "cell_type": "code",
   "execution_count": 132,
   "metadata": {},
   "outputs": [],
   "source": [
    "from pyspark.sql import SparkSession\n",
    "spark=SparkSession.builder.appName(\"date file\").getOrCreate()"
   ]
  },
  {
   "cell_type": "markdown",
   "metadata": {},
   "source": [
    "### reading csv file"
   ]
  },
  {
   "cell_type": "code",
   "execution_count": 133,
   "metadata": {},
   "outputs": [],
   "source": [
    "ddc=spark.read.csv(\"DailyDelhiClimateTest.csv\",header=True,inferSchema=True)"
   ]
  },
  {
   "cell_type": "code",
   "execution_count": 134,
   "metadata": {},
   "outputs": [
    {
     "name": "stdout",
     "output_type": "stream",
     "text": [
      "+----------+------------------+-----------------+------------------+------------------+\n",
      "|      date|          meantemp|         humidity|        wind_speed|      meanpressure|\n",
      "+----------+------------------+-----------------+------------------+------------------+\n",
      "|2017-01-01| 15.91304347826087| 85.8695652173913| 2.743478260869565|              59.0|\n",
      "|2017-01-02|              18.5|77.22222222222223|2.8944444444444444|1018.2777777777778|\n",
      "|2017-01-03| 17.11111111111111|81.88888888888889| 4.016666666666667|1018.3333333333334|\n",
      "|2017-01-04|              18.7|            70.05|             4.545|            1015.7|\n",
      "|2017-01-05| 18.38888888888889|74.94444444444444|3.3000000000000003|1014.3333333333334|\n",
      "|2017-01-06|19.318181818181817|79.31818181818181| 8.681818181818182|1011.7727272727273|\n",
      "|2017-01-07|14.708333333333334|95.83333333333333|10.041666666666664|          1011.375|\n",
      "|2017-01-08| 15.68421052631579|83.52631578947368|              1.95|           1015.55|\n",
      "|2017-01-09|14.571428571428571|80.80952380952381| 6.542857142857142| 1015.952380952381|\n",
      "|2017-01-10| 12.11111111111111|71.94444444444444| 9.361111111111109|1016.8888888888889|\n",
      "|2017-01-11|              11.0|72.11111111111111|  9.77222222222222|1016.7777777777778|\n",
      "|2017-01-12|11.789473684210526|74.57894736842105| 6.626315789473684|1016.3684210526316|\n",
      "|2017-01-13|13.235294117647058|67.05882352941177| 6.435294117647059|1017.5294117647059|\n",
      "|2017-01-14|              13.2|            74.28|             5.276|           1018.84|\n",
      "|2017-01-15|16.434782608695652|72.56521739130434| 3.630434782608696|1018.1304347826087|\n",
      "|2017-01-16|             14.65|            78.45|             10.38|           1017.15|\n",
      "|2017-01-17|11.722222222222221|84.44444444444444| 8.038888888888888|1018.3888888888889|\n",
      "|2017-01-18|13.041666666666666|78.33333333333333| 6.029166666666664|1021.9583333333334|\n",
      "|2017-01-19|14.619047619047619|75.14285714285714|10.338095238095239|1022.8095238095239|\n",
      "|2017-01-20|15.263157894736842|66.47368421052632|11.226315789473684|1021.7894736842105|\n",
      "+----------+------------------+-----------------+------------------+------------------+\n",
      "only showing top 20 rows\n",
      "\n"
     ]
    }
   ],
   "source": [
    "ddc.show()"
   ]
  },
  {
   "cell_type": "code",
   "execution_count": 135,
   "metadata": {},
   "outputs": [
    {
     "data": {
      "text/plain": [
       "[('date', 'string'),\n",
       " ('meantemp', 'double'),\n",
       " ('humidity', 'double'),\n",
       " ('wind_speed', 'double'),\n",
       " ('meanpressure', 'double')]"
      ]
     },
     "execution_count": 135,
     "metadata": {},
     "output_type": "execute_result"
    }
   ],
   "source": [
    "ddc.dtypes"
   ]
  },
  {
   "cell_type": "code",
   "execution_count": 136,
   "metadata": {},
   "outputs": [
    {
     "data": {
      "text/plain": [
       "DataFrame[summary: string, date: string, meantemp: string, humidity: string, wind_speed: string, meanpressure: string]"
      ]
     },
     "execution_count": 136,
     "metadata": {},
     "output_type": "execute_result"
    }
   ],
   "source": [
    "ddc.describe()"
   ]
  },
  {
   "cell_type": "code",
   "execution_count": 137,
   "metadata": {},
   "outputs": [
    {
     "data": {
      "text/plain": [
       "['date', 'meantemp', 'humidity', 'wind_speed', 'meanpressure']"
      ]
     },
     "execution_count": 137,
     "metadata": {},
     "output_type": "execute_result"
    }
   ],
   "source": [
    "ddc.columns"
   ]
  },
  {
   "cell_type": "code",
   "execution_count": 138,
   "metadata": {},
   "outputs": [
    {
     "name": "stdout",
     "output_type": "stream",
     "text": [
      "+-------+----------+\n",
      "|summary|      date|\n",
      "+-------+----------+\n",
      "|  count|       114|\n",
      "|   mean|      null|\n",
      "| stddev|      null|\n",
      "|    min|2017-01-01|\n",
      "|    max|2017-04-24|\n",
      "+-------+----------+\n",
      "\n"
     ]
    }
   ],
   "source": [
    "ddc.select('date').describe().show()"
   ]
  },
  {
   "cell_type": "code",
   "execution_count": 139,
   "metadata": {},
   "outputs": [
    {
     "name": "stdout",
     "output_type": "stream",
     "text": [
      "+-------+----------+-----------------+------------------+------------------+------------------+\n",
      "|summary|      date|         meantemp|          humidity|        wind_speed|      meanpressure|\n",
      "+-------+----------+-----------------+------------------+------------------+------------------+\n",
      "|  count|       114|              114|               114|               114|               114|\n",
      "|   mean|      null|21.71307892022824|56.258361837263266| 8.143924054573581|  1004.03508969052|\n",
      "| stddev|      null|6.360071848767031|19.068082852306677|3.5880494654730275| 89.47469204777897|\n",
      "|    min|2017-01-01|             11.0|             17.75|1.3875000000000002|              59.0|\n",
      "|    max|2017-04-24|             34.5| 95.83333333333333|19.314285714285713|1022.8095238095239|\n",
      "+-------+----------+-----------------+------------------+------------------+------------------+\n",
      "\n"
     ]
    }
   ],
   "source": [
    "ddc.describe().show()"
   ]
  },
  {
   "cell_type": "code",
   "execution_count": 140,
   "metadata": {},
   "outputs": [
    {
     "name": "stdout",
     "output_type": "stream",
     "text": [
      "+-------+----------+\n",
      "|summary|      date|\n",
      "+-------+----------+\n",
      "|  count|       114|\n",
      "|   mean|      null|\n",
      "| stddev|      null|\n",
      "|    min|2017-01-01|\n",
      "|    max|2017-04-24|\n",
      "+-------+----------+\n",
      "\n"
     ]
    }
   ],
   "source": [
    "ddc.describe('date').show()"
   ]
  },
  {
   "cell_type": "code",
   "execution_count": 141,
   "metadata": {},
   "outputs": [
    {
     "name": "stdout",
     "output_type": "stream",
     "text": [
      "root\n",
      " |-- date: string (nullable = true)\n",
      " |-- meantemp: double (nullable = true)\n",
      " |-- humidity: double (nullable = true)\n",
      " |-- wind_speed: double (nullable = true)\n",
      " |-- meanpressure: double (nullable = true)\n",
      "\n"
     ]
    }
   ],
   "source": [
    "ddc.printSchema()"
   ]
  },
  {
   "cell_type": "markdown",
   "metadata": {},
   "source": [
    "### checking column wise count of nulls and nas in dataset"
   ]
  },
  {
   "cell_type": "code",
   "execution_count": 142,
   "metadata": {},
   "outputs": [
    {
     "name": "stdout",
     "output_type": "stream",
     "text": [
      "+----+--------+--------+----------+------------+\n",
      "|date|meantemp|humidity|wind_speed|meanpressure|\n",
      "+----+--------+--------+----------+------------+\n",
      "|   0|       0|       0|         0|           0|\n",
      "+----+--------+--------+----------+------------+\n",
      "\n"
     ]
    }
   ],
   "source": [
    "from pyspark.sql.functions import count,when,col,isnan\n",
    "ddc.select([count(when(col(c).isNull(),c)).alias(c) for c in ddc.columns]).show()"
   ]
  },
  {
   "cell_type": "code",
   "execution_count": 143,
   "metadata": {},
   "outputs": [
    {
     "name": "stdout",
     "output_type": "stream",
     "text": [
      "+----+--------+--------+----------+------------+\n",
      "|date|meantemp|humidity|wind_speed|meanpressure|\n",
      "+----+--------+--------+----------+------------+\n",
      "|   0|       0|       0|         0|           0|\n",
      "+----+--------+--------+----------+------------+\n",
      "\n"
     ]
    }
   ],
   "source": [
    "ddc.select([count(when(isnan(c),c)).alias(c) for c in ddc.columns]).show()"
   ]
  },
  {
   "cell_type": "code",
   "execution_count": 144,
   "metadata": {},
   "outputs": [
    {
     "data": {
      "text/plain": [
       "pyspark.sql.dataframe.DataFrame"
      ]
     },
     "execution_count": 144,
     "metadata": {},
     "output_type": "execute_result"
    }
   ],
   "source": [
    "type(ddc)"
   ]
  },
  {
   "cell_type": "code",
   "execution_count": 145,
   "metadata": {},
   "outputs": [
    {
     "data": {
      "text/plain": [
       "Column<b'date'>"
      ]
     },
     "execution_count": 145,
     "metadata": {},
     "output_type": "execute_result"
    }
   ],
   "source": [
    "ddc.date"
   ]
  },
  {
   "cell_type": "code",
   "execution_count": 146,
   "metadata": {},
   "outputs": [
    {
     "data": {
      "text/plain": [
       "Column<b'date'>"
      ]
     },
     "execution_count": 146,
     "metadata": {},
     "output_type": "execute_result"
    }
   ],
   "source": [
    "ddc['date']"
   ]
  },
  {
   "cell_type": "code",
   "execution_count": 147,
   "metadata": {},
   "outputs": [
    {
     "data": {
      "text/plain": [
       "DataFrame[date: string]"
      ]
     },
     "execution_count": 147,
     "metadata": {},
     "output_type": "execute_result"
    }
   ],
   "source": [
    "ddc.select('date')"
   ]
  },
  {
   "cell_type": "code",
   "execution_count": 148,
   "metadata": {},
   "outputs": [
    {
     "name": "stdout",
     "output_type": "stream",
     "text": [
      "+----------+\n",
      "|      date|\n",
      "+----------+\n",
      "|2017-01-01|\n",
      "|2017-01-02|\n",
      "|2017-01-03|\n",
      "|2017-01-04|\n",
      "|2017-01-05|\n",
      "+----------+\n",
      "only showing top 5 rows\n",
      "\n"
     ]
    }
   ],
   "source": [
    "ddc.select('date').show(5)"
   ]
  },
  {
   "cell_type": "code",
   "execution_count": 149,
   "metadata": {},
   "outputs": [
    {
     "name": "stdout",
     "output_type": "stream",
     "text": [
      "+----------+-----------------+\n",
      "|      date|         meantemp|\n",
      "+----------+-----------------+\n",
      "|2017-01-01|15.91304347826087|\n",
      "|2017-01-02|             18.5|\n",
      "|2017-01-03|17.11111111111111|\n",
      "|2017-01-04|             18.7|\n",
      "|2017-01-05|18.38888888888889|\n",
      "+----------+-----------------+\n",
      "only showing top 5 rows\n",
      "\n"
     ]
    }
   ],
   "source": [
    "ddc.select('date','meantemp').show(5)"
   ]
  },
  {
   "cell_type": "code",
   "execution_count": 150,
   "metadata": {},
   "outputs": [
    {
     "name": "stdout",
     "output_type": "stream",
     "text": [
      "+----------------+\n",
      "|mean temperature|\n",
      "+----------------+\n",
      "|           15.91|\n",
      "|            18.5|\n",
      "|           17.11|\n",
      "|            18.7|\n",
      "|           18.39|\n",
      "+----------------+\n",
      "only showing top 5 rows\n",
      "\n"
     ]
    }
   ],
   "source": [
    "from pyspark.sql.functions import *\n",
    "ddc.select(round(ddc['meantemp'],2).alias('mean temperature')).show(5)"
   ]
  },
  {
   "cell_type": "markdown",
   "metadata": {},
   "source": [
    "### obtaining mean value of humidity"
   ]
  },
  {
   "cell_type": "code",
   "execution_count": 151,
   "metadata": {},
   "outputs": [
    {
     "data": {
      "text/plain": [
       "56.258361837263266"
      ]
     },
     "execution_count": 151,
     "metadata": {},
     "output_type": "execute_result"
    }
   ],
   "source": [
    "x=ddc.select(avg(ddc.humidity).alias('mean humidity')).collect()\n",
    "x[0][0]"
   ]
  },
  {
   "cell_type": "code",
   "execution_count": 152,
   "metadata": {},
   "outputs": [
    {
     "name": "stdout",
     "output_type": "stream",
     "text": [
      "+------------------+\n",
      "|maximum wind speed|\n",
      "+------------------+\n",
      "|19.314285714285713|\n",
      "+------------------+\n",
      "\n"
     ]
    }
   ],
   "source": [
    "ddc.select(max(ddc.wind_speed).alias('maximum wind speed')).show()"
   ]
  },
  {
   "cell_type": "markdown",
   "metadata": {},
   "source": [
    "### finding humidity to wind speed ratio"
   ]
  },
  {
   "cell_type": "code",
   "execution_count": 153,
   "metadata": {},
   "outputs": [
    {
     "name": "stdout",
     "output_type": "stream",
     "text": [
      "+----------+-----------------+-----------------+------------------+------------------+------------+\n",
      "|      date|         meantemp|         humidity|        wind_speed|      meanpressure|hum_to_speed|\n",
      "+----------+-----------------+-----------------+------------------+------------------+------------+\n",
      "|2017-01-01|15.91304347826087| 85.8695652173913| 2.743478260869565|              59.0|        31.3|\n",
      "|2017-01-02|             18.5|77.22222222222223|2.8944444444444444|1018.2777777777778|       26.68|\n",
      "|2017-01-03|17.11111111111111|81.88888888888889| 4.016666666666667|1018.3333333333334|       20.39|\n",
      "|2017-01-04|             18.7|            70.05|             4.545|            1015.7|       15.41|\n",
      "|2017-01-05|18.38888888888889|74.94444444444444|3.3000000000000003|1014.3333333333334|       22.71|\n",
      "+----------+-----------------+-----------------+------------------+------------------+------------+\n",
      "only showing top 5 rows\n",
      "\n"
     ]
    }
   ],
   "source": [
    "ddc1=ddc.withColumn('hum_to_speed',round((ddc.humidity/ddc.wind_speed),2))\n",
    "ddc1.show(5)"
   ]
  },
  {
   "cell_type": "code",
   "execution_count": 154,
   "metadata": {},
   "outputs": [
    {
     "data": {
      "text/plain": [
       "pyspark.sql.dataframe.DataFrame"
      ]
     },
     "execution_count": 154,
     "metadata": {},
     "output_type": "execute_result"
    }
   ],
   "source": [
    "type(ddc1)"
   ]
  },
  {
   "cell_type": "markdown",
   "metadata": {},
   "source": [
    "### creating a copy column of existing column"
   ]
  },
  {
   "cell_type": "code",
   "execution_count": 155,
   "metadata": {},
   "outputs": [
    {
     "name": "stdout",
     "output_type": "stream",
     "text": [
      "+----------+-----------------+-----------------+------------------+------------------+------------+-----------------+\n",
      "|      date|         meantemp|         humidity|        wind_speed|      meanpressure|hum_to_speed| mean temperature|\n",
      "+----------+-----------------+-----------------+------------------+------------------+------------+-----------------+\n",
      "|2017-01-01|15.91304347826087| 85.8695652173913| 2.743478260869565|              59.0|        31.3|15.91304347826087|\n",
      "|2017-01-02|             18.5|77.22222222222223|2.8944444444444444|1018.2777777777778|       26.68|             18.5|\n",
      "|2017-01-03|17.11111111111111|81.88888888888889| 4.016666666666667|1018.3333333333334|       20.39|17.11111111111111|\n",
      "|2017-01-04|             18.7|            70.05|             4.545|            1015.7|       15.41|             18.7|\n",
      "|2017-01-05|18.38888888888889|74.94444444444444|3.3000000000000003|1014.3333333333334|       22.71|18.38888888888889|\n",
      "+----------+-----------------+-----------------+------------------+------------------+------------+-----------------+\n",
      "only showing top 5 rows\n",
      "\n"
     ]
    }
   ],
   "source": [
    "ddc1 = ddc1.withColumn('mean temperature',ddc.meantemp)\n",
    "ddc1.show(5)"
   ]
  },
  {
   "cell_type": "code",
   "execution_count": 156,
   "metadata": {},
   "outputs": [
    {
     "data": {
      "text/plain": [
       "[('date', 'string'),\n",
       " ('meantemp', 'double'),\n",
       " ('humidity', 'double'),\n",
       " ('wind_speed', 'double'),\n",
       " ('meanpressure', 'double'),\n",
       " ('hum_to_speed', 'double'),\n",
       " ('mean temperature', 'double')]"
      ]
     },
     "execution_count": 156,
     "metadata": {},
     "output_type": "execute_result"
    }
   ],
   "source": [
    "ddc1.dtypes"
   ]
  },
  {
   "cell_type": "markdown",
   "metadata": {},
   "source": [
    "### renaming column name"
   ]
  },
  {
   "cell_type": "code",
   "execution_count": 157,
   "metadata": {},
   "outputs": [
    {
     "name": "stdout",
     "output_type": "stream",
     "text": [
      "+----------+------------------+-----------------+------------------+------------------+------------+------------------+\n",
      "|      date|          meantemp|         humidity|        wind_speed|      meanpressure|hum_to_speed|  mean_temperature|\n",
      "+----------+------------------+-----------------+------------------+------------------+------------+------------------+\n",
      "|2017-01-01| 15.91304347826087| 85.8695652173913| 2.743478260869565|              59.0|        31.3| 15.91304347826087|\n",
      "|2017-01-02|              18.5|77.22222222222223|2.8944444444444444|1018.2777777777778|       26.68|              18.5|\n",
      "|2017-01-03| 17.11111111111111|81.88888888888889| 4.016666666666667|1018.3333333333334|       20.39| 17.11111111111111|\n",
      "|2017-01-04|              18.7|            70.05|             4.545|            1015.7|       15.41|              18.7|\n",
      "|2017-01-05| 18.38888888888889|74.94444444444444|3.3000000000000003|1014.3333333333334|       22.71| 18.38888888888889|\n",
      "|2017-01-06|19.318181818181817|79.31818181818181| 8.681818181818182|1011.7727272727273|        9.14|19.318181818181817|\n",
      "|2017-01-07|14.708333333333334|95.83333333333333|10.041666666666664|          1011.375|        9.54|14.708333333333334|\n",
      "|2017-01-08| 15.68421052631579|83.52631578947368|              1.95|           1015.55|       42.83| 15.68421052631579|\n",
      "|2017-01-09|14.571428571428571|80.80952380952381| 6.542857142857142| 1015.952380952381|       12.35|14.571428571428571|\n",
      "|2017-01-10| 12.11111111111111|71.94444444444444| 9.361111111111109|1016.8888888888889|        7.69| 12.11111111111111|\n",
      "|2017-01-11|              11.0|72.11111111111111|  9.77222222222222|1016.7777777777778|        7.38|              11.0|\n",
      "|2017-01-12|11.789473684210526|74.57894736842105| 6.626315789473684|1016.3684210526316|       11.25|11.789473684210526|\n",
      "|2017-01-13|13.235294117647058|67.05882352941177| 6.435294117647059|1017.5294117647059|       10.42|13.235294117647058|\n",
      "|2017-01-14|              13.2|            74.28|             5.276|           1018.84|       14.08|              13.2|\n",
      "|2017-01-15|16.434782608695652|72.56521739130434| 3.630434782608696|1018.1304347826087|       19.99|16.434782608695652|\n",
      "|2017-01-16|             14.65|            78.45|             10.38|           1017.15|        7.56|             14.65|\n",
      "|2017-01-17|11.722222222222221|84.44444444444444| 8.038888888888888|1018.3888888888889|        10.5|11.722222222222221|\n",
      "|2017-01-18|13.041666666666666|78.33333333333333| 6.029166666666664|1021.9583333333334|       12.99|13.041666666666666|\n",
      "|2017-01-19|14.619047619047619|75.14285714285714|10.338095238095239|1022.8095238095239|        7.27|14.619047619047619|\n",
      "|2017-01-20|15.263157894736842|66.47368421052632|11.226315789473684|1021.7894736842105|        5.92|15.263157894736842|\n",
      "+----------+------------------+-----------------+------------------+------------------+------------+------------------+\n",
      "only showing top 20 rows\n",
      "\n"
     ]
    }
   ],
   "source": [
    "ddc1=ddc1.withColumnRenamed('mean temperature','mean_temperature')\n",
    "ddc1.show()"
   ]
  },
  {
   "cell_type": "markdown",
   "metadata": {},
   "source": [
    "### filtering data based on a condition and obtaining row corresponding to the condition"
   ]
  },
  {
   "cell_type": "code",
   "execution_count": 158,
   "metadata": {},
   "outputs": [],
   "source": [
    "res=ddc1.filter(ddc1.date=='2017-01-20').collect()"
   ]
  },
  {
   "cell_type": "code",
   "execution_count": 159,
   "metadata": {},
   "outputs": [],
   "source": [
    "result=res[0]"
   ]
  },
  {
   "cell_type": "code",
   "execution_count": 160,
   "metadata": {},
   "outputs": [
    {
     "data": {
      "text/plain": [
       "{'date': '2017-01-20',\n",
       " 'meantemp': 15.263157894736842,\n",
       " 'humidity': 66.47368421052632,\n",
       " 'wind_speed': 11.226315789473684,\n",
       " 'meanpressure': 1021.7894736842105,\n",
       " 'hum_to_speed': 5.92,\n",
       " 'mean_temperature': 15.263157894736842}"
      ]
     },
     "execution_count": 160,
     "metadata": {},
     "output_type": "execute_result"
    }
   ],
   "source": [
    "result.asDict()"
   ]
  },
  {
   "cell_type": "code",
   "execution_count": 161,
   "metadata": {},
   "outputs": [
    {
     "name": "stdout",
     "output_type": "stream",
     "text": [
      "2017-01-20\n",
      "15.263157894736842\n",
      "66.47368421052632\n",
      "11.226315789473684\n",
      "1021.7894736842105\n",
      "5.92\n",
      "15.263157894736842\n"
     ]
    }
   ],
   "source": [
    "for i in result:\n",
    "    print(i)"
   ]
  },
  {
   "cell_type": "markdown",
   "metadata": {},
   "source": [
    "### using multiple filter conditions"
   ]
  },
  {
   "cell_type": "code",
   "execution_count": 162,
   "metadata": {},
   "outputs": [
    {
     "name": "stdout",
     "output_type": "stream",
     "text": [
      "+----------+\n",
      "|      date|\n",
      "+----------+\n",
      "|2017-02-24|\n",
      "|2017-03-26|\n",
      "|2017-04-10|\n",
      "|2017-04-11|\n",
      "+----------+\n",
      "\n"
     ]
    }
   ],
   "source": [
    "ddc1.filter((ddc1['meanpressure']>50) & ~(ddc1['wind_speed']<15)).select(ddc1['date']).show()"
   ]
  },
  {
   "cell_type": "markdown",
   "metadata": {},
   "source": [
    "### creating view from dataframe"
   ]
  },
  {
   "cell_type": "code",
   "execution_count": 163,
   "metadata": {},
   "outputs": [],
   "source": [
    "ddc1.createOrReplaceTempView(\"DL_climate\")"
   ]
  },
  {
   "cell_type": "code",
   "execution_count": 164,
   "metadata": {},
   "outputs": [
    {
     "data": {
      "text/plain": [
       "pyspark.sql.dataframe.DataFrame"
      ]
     },
     "execution_count": 164,
     "metadata": {},
     "output_type": "execute_result"
    }
   ],
   "source": [
    "type(ddc1)"
   ]
  },
  {
   "cell_type": "code",
   "execution_count": 165,
   "metadata": {},
   "outputs": [
    {
     "name": "stdout",
     "output_type": "stream",
     "text": [
      "+----------+-----------------+-----------------+------------------+------------------+------------+-----------------+\n",
      "|      date|         meantemp|         humidity|        wind_speed|      meanpressure|hum_to_speed| mean_temperature|\n",
      "+----------+-----------------+-----------------+------------------+------------------+------------+-----------------+\n",
      "|2017-01-01|15.91304347826087| 85.8695652173913| 2.743478260869565|              59.0|        31.3|15.91304347826087|\n",
      "|2017-01-02|             18.5|77.22222222222223|2.8944444444444444|1018.2777777777778|       26.68|             18.5|\n",
      "+----------+-----------------+-----------------+------------------+------------------+------------+-----------------+\n",
      "only showing top 2 rows\n",
      "\n"
     ]
    }
   ],
   "source": [
    "q1=spark.sql(\"select * from DL_climate\")\n",
    "q1.show(2)"
   ]
  },
  {
   "cell_type": "code",
   "execution_count": 166,
   "metadata": {},
   "outputs": [
    {
     "name": "stdout",
     "output_type": "stream",
     "text": [
      "+----------+----------+------------+\n",
      "|      date|wind_speed|meanpressure|\n",
      "+----------+----------+------------+\n",
      "|2017-02-16|     10.44|     1017.63|\n",
      "|2017-02-22|      7.41|     1012.25|\n",
      "|2017-02-25|     11.93|     1014.29|\n",
      "|2017-02-26|     11.11|     1012.38|\n",
      "|2017-02-27|       5.1|     1014.25|\n",
      "|2017-02-28|      3.91|     1013.11|\n",
      "|2017-03-02|      5.93|     1012.15|\n",
      "|2017-03-08|     10.26|     1008.91|\n",
      "|2017-03-12|      7.64|     1014.75|\n",
      "|2017-03-14|      4.52|     1016.56|\n",
      "|2017-03-15|      7.18|     1014.13|\n",
      "|2017-03-17|     11.49|      1010.7|\n",
      "|2017-03-19|      9.16|     1011.89|\n",
      "|2017-03-20|     10.08|     1012.56|\n",
      "+----------+----------+------------+\n",
      "\n"
     ]
    }
   ],
   "source": [
    "q2=spark.sql(\"select date,round(wind_speed,2) as wind_speed,round(meanpressure,2) as meanpressure from dl_climate where humidity between 50 and 60\")\n",
    "q2.show()"
   ]
  },
  {
   "cell_type": "code",
   "execution_count": 167,
   "metadata": {},
   "outputs": [
    {
     "name": "stdout",
     "output_type": "stream",
     "text": [
      "+-------------------------+\n",
      "|month(CAST(date AS DATE))|\n",
      "+-------------------------+\n",
      "|                        1|\n",
      "|                        2|\n",
      "|                        3|\n",
      "|                        4|\n",
      "+-------------------------+\n",
      "\n"
     ]
    }
   ],
   "source": [
    "q3=spark.sql(\"select distinct month(date) from dl_climate order by 1\")\n",
    "q3.show()"
   ]
  },
  {
   "cell_type": "code",
   "execution_count": 179,
   "metadata": {},
   "outputs": [
    {
     "name": "stdout",
     "output_type": "stream",
     "text": [
      "+----------+------------+----------+\n",
      "|      date|hum_to_speed|wind_speed|\n",
      "+----------+------------+----------+\n",
      "|2017-04-20|        4.94|    5.5625|\n",
      "|2017-04-21|        5.66|    6.9625|\n",
      "+----------+------------+----------+\n",
      "\n"
     ]
    }
   ],
   "source": [
    "q4=spark.sql(\"select * from dl_climate where month(date)==4\")\n",
    "q4.filter(q4.meanpressure<1000).select(['date','hum_to_speed','wind_speed']).show()"
   ]
  },
  {
   "cell_type": "markdown",
   "metadata": {},
   "source": [
    "### analysing data based on date"
   ]
  },
  {
   "cell_type": "code",
   "execution_count": 188,
   "metadata": {},
   "outputs": [
    {
     "data": {
      "text/plain": [
       "31"
      ]
     },
     "execution_count": 188,
     "metadata": {},
     "output_type": "execute_result"
    }
   ],
   "source": [
    "ddc1.select(dayofmonth(ddc1.date)).distinct().orderBy('date').count()"
   ]
  },
  {
   "cell_type": "code",
   "execution_count": 190,
   "metadata": {},
   "outputs": [
    {
     "data": {
      "text/plain": [
       "114"
      ]
     },
     "execution_count": 190,
     "metadata": {},
     "output_type": "execute_result"
    }
   ],
   "source": [
    "ddc1.select(month(ddc1.date)).count()"
   ]
  },
  {
   "cell_type": "code",
   "execution_count": 193,
   "metadata": {},
   "outputs": [
    {
     "name": "stdout",
     "output_type": "stream",
     "text": [
      "+-----------+\n",
      "|month(date)|\n",
      "+-----------+\n",
      "|          1|\n",
      "|          1|\n",
      "|          1|\n",
      "|          1|\n",
      "|          1|\n",
      "|          1|\n",
      "|          1|\n",
      "|          1|\n",
      "|          1|\n",
      "|          1|\n",
      "+-----------+\n",
      "only showing top 10 rows\n",
      "\n"
     ]
    }
   ],
   "source": [
    "ddc1.select(month(ddc1.date)).show(10)"
   ]
  },
  {
   "cell_type": "code",
   "execution_count": 195,
   "metadata": {},
   "outputs": [
    {
     "name": "stdout",
     "output_type": "stream",
     "text": [
      "+---------------+\n",
      "|dayofyear(date)|\n",
      "+---------------+\n",
      "|             31|\n",
      "|             85|\n",
      "|             65|\n",
      "|             53|\n",
      "|             78|\n",
      "|            108|\n",
      "|             34|\n",
      "|            101|\n",
      "|             81|\n",
      "|             28|\n",
      "|             76|\n",
      "|             26|\n",
      "|             27|\n",
      "|             44|\n",
      "|            103|\n",
      "|             12|\n",
      "|             91|\n",
      "|             22|\n",
      "|             93|\n",
      "|            111|\n",
      "+---------------+\n",
      "only showing top 20 rows\n",
      "\n"
     ]
    }
   ],
   "source": [
    "ddc1.select(dayofyear(ddc1.date)).distinct().show()"
   ]
  },
  {
   "cell_type": "code",
   "execution_count": 197,
   "metadata": {},
   "outputs": [
    {
     "name": "stdout",
     "output_type": "stream",
     "text": [
      "+----------+\n",
      "|year(date)|\n",
      "+----------+\n",
      "|      2017|\n",
      "+----------+\n",
      "\n"
     ]
    }
   ],
   "source": [
    "ddc1.select(year(ddc1.date)).distinct().show()"
   ]
  },
  {
   "cell_type": "code",
   "execution_count": 198,
   "metadata": {},
   "outputs": [
    {
     "name": "stdout",
     "output_type": "stream",
     "text": [
      "+----------+-----------------+-----------------+------------------+------------------+------------+-----------------+-----+\n",
      "|      date|         meantemp|         humidity|        wind_speed|      meanpressure|hum_to_speed| mean_temperature|month|\n",
      "+----------+-----------------+-----------------+------------------+------------------+------------+-----------------+-----+\n",
      "|2017-01-01|15.91304347826087| 85.8695652173913| 2.743478260869565|              59.0|        31.3|15.91304347826087|    1|\n",
      "|2017-01-02|             18.5|77.22222222222223|2.8944444444444444|1018.2777777777778|       26.68|             18.5|    1|\n",
      "|2017-01-03|17.11111111111111|81.88888888888889| 4.016666666666667|1018.3333333333334|       20.39|17.11111111111111|    1|\n",
      "+----------+-----------------+-----------------+------------------+------------------+------------+-----------------+-----+\n",
      "only showing top 3 rows\n",
      "\n"
     ]
    }
   ],
   "source": [
    "ddc1=ddc1.withColumn('month',month(ddc1.date))\n",
    "ddc1.show(3)"
   ]
  },
  {
   "cell_type": "code",
   "execution_count": 200,
   "metadata": {},
   "outputs": [
    {
     "name": "stdout",
     "output_type": "stream",
     "text": [
      "+----------+-----------------+-----------------+------------------+------------------+------------+-----------------+-----+---+\n",
      "|      date|         meantemp|         humidity|        wind_speed|      meanpressure|hum_to_speed| mean_temperature|month|day|\n",
      "+----------+-----------------+-----------------+------------------+------------------+------------+-----------------+-----+---+\n",
      "|2017-01-01|15.91304347826087| 85.8695652173913| 2.743478260869565|              59.0|        31.3|15.91304347826087|    1|  1|\n",
      "|2017-01-02|             18.5|77.22222222222223|2.8944444444444444|1018.2777777777778|       26.68|             18.5|    1|  2|\n",
      "|2017-01-03|17.11111111111111|81.88888888888889| 4.016666666666667|1018.3333333333334|       20.39|17.11111111111111|    1|  3|\n",
      "|2017-01-04|             18.7|            70.05|             4.545|            1015.7|       15.41|             18.7|    1|  4|\n",
      "|2017-01-05|18.38888888888889|74.94444444444444|3.3000000000000003|1014.3333333333334|       22.71|18.38888888888889|    1|  5|\n",
      "+----------+-----------------+-----------------+------------------+------------------+------------+-----------------+-----+---+\n",
      "only showing top 5 rows\n",
      "\n"
     ]
    }
   ],
   "source": [
    "ddc1=ddc1.withColumn('day',dayofmonth(ddc1.date))\n",
    "ddc1.show(5)"
   ]
  },
  {
   "cell_type": "code",
   "execution_count": 204,
   "metadata": {},
   "outputs": [
    {
     "name": "stdout",
     "output_type": "stream",
     "text": [
      "+-----+------------------------+\n",
      "|month|maximum mean temperature|\n",
      "+-----+------------------------+\n",
      "|    1|                    21.0|\n",
      "|    3|                    31.0|\n",
      "|    4|                    34.5|\n",
      "|    2|                  23.375|\n",
      "+-----+------------------------+\n",
      "\n"
     ]
    }
   ],
   "source": [
    "rs=ddc1.groupBy(\"month\").agg({'meantemp':'max'})\n",
    "rs=rs.withColumnRenamed('max(meantemp)','maximum mean temperature')\n",
    "rs.show(5)"
   ]
  },
  {
   "cell_type": "code",
   "execution_count": 205,
   "metadata": {},
   "outputs": [
    {
     "name": "stdout",
     "output_type": "stream",
     "text": [
      "+----------------+\n",
      "|weekofyear(date)|\n",
      "+----------------+\n",
      "|              52|\n",
      "|               1|\n",
      "|               1|\n",
      "|               1|\n",
      "|               1|\n",
      "|               1|\n",
      "|               1|\n",
      "|               1|\n",
      "|               2|\n",
      "|               2|\n",
      "|               2|\n",
      "|               2|\n",
      "|               2|\n",
      "|               2|\n",
      "|               2|\n",
      "|               3|\n",
      "|               3|\n",
      "|               3|\n",
      "|               3|\n",
      "|               3|\n",
      "+----------------+\n",
      "only showing top 20 rows\n",
      "\n"
     ]
    }
   ],
   "source": [
    "ddc1.select(weekofyear(ddc1.date)).show()"
   ]
  },
  {
   "cell_type": "code",
   "execution_count": 214,
   "metadata": {},
   "outputs": [
    {
     "name": "stdout",
     "output_type": "stream",
     "text": [
      "+----------+-----------------+-----------------+------------------+------------------+------------+-----------------+-----+---+--------+\n",
      "|      date|         meantemp|         humidity|        wind_speed|      meanpressure|hum_to_speed| mean_temperature|month|day|week_num|\n",
      "+----------+-----------------+-----------------+------------------+------------------+------------+-----------------+-----+---+--------+\n",
      "|2017-01-01|15.91304347826087| 85.8695652173913| 2.743478260869565|              59.0|        31.3|15.91304347826087|    1|  1|      52|\n",
      "|2017-01-02|             18.5|77.22222222222223|2.8944444444444444|1018.2777777777778|       26.68|             18.5|    1|  2|       1|\n",
      "|2017-01-03|17.11111111111111|81.88888888888889| 4.016666666666667|1018.3333333333334|       20.39|17.11111111111111|    1|  3|       1|\n",
      "|2017-01-04|             18.7|            70.05|             4.545|            1015.7|       15.41|             18.7|    1|  4|       1|\n",
      "|2017-01-05|18.38888888888889|74.94444444444444|3.3000000000000003|1014.3333333333334|       22.71|18.38888888888889|    1|  5|       1|\n",
      "+----------+-----------------+-----------------+------------------+------------------+------------+-----------------+-----+---+--------+\n",
      "only showing top 5 rows\n",
      "\n"
     ]
    }
   ],
   "source": [
    "ddc1=ddc1.withColumn('week_num',weekofyear(ddc1.date))\n",
    "ddc1.show(5)"
   ]
  },
  {
   "cell_type": "code",
   "execution_count": 213,
   "metadata": {},
   "outputs": [
    {
     "name": "stdout",
     "output_type": "stream",
     "text": [
      "+--------+\n",
      "|week_num|\n",
      "+--------+\n",
      "|      12|\n",
      "|       1|\n",
      "|      52|\n",
      "|      13|\n",
      "|       6|\n",
      "|      16|\n",
      "|       3|\n",
      "|       5|\n",
      "|      15|\n",
      "|       9|\n",
      "|      17|\n",
      "|       4|\n",
      "|       8|\n",
      "|       7|\n",
      "|      10|\n",
      "|      11|\n",
      "|      14|\n",
      "|       2|\n",
      "+--------+\n",
      "\n"
     ]
    }
   ],
   "source": [
    "ddc1.select('week_num').distinct().show()"
   ]
  },
  {
   "cell_type": "code",
   "execution_count": 212,
   "metadata": {},
   "outputs": [
    {
     "name": "stdout",
     "output_type": "stream",
     "text": [
      "+--------+------------------------+------------------+------------------+---------------------+\n",
      "|week_num|minimum mean temperature|minimum wind speed|  minimum humidity|minimum mean pressure|\n",
      "+--------+------------------------+------------------+------------------+---------------------+\n",
      "|       1|      14.708333333333334|              1.95|             70.05|             1011.375|\n",
      "|       2|                    11.0| 3.630434782608696| 67.05882352941177|    1015.952380952381|\n",
      "|       3|      11.722222222222221|5.8679999999999986| 66.47368421052632|              1017.15|\n",
      "|       4|      14.863636363636363|3.3913043478260865|  68.1304347826087|   1017.3888888888889|\n",
      "|       5|                   15.25|1.8545454545454545| 66.54545454545455|   1014.2105263157895|\n",
      "|       6|      14.666666666666666|             1.625|             63.75|               1015.6|\n",
      "|       7|      16.333333333333332| 5.557142857142857|             56.75|               1013.0|\n",
      "|       8|                  18.625| 6.937499999999999|            40.375|             1005.375|\n",
      "|       9|                  19.125|3.9111111111111114|             41.25|               1010.0|\n",
      "|      10|                  17.375| 5.566666666666666|              41.5|             1006.875|\n",
      "|      11|      17.444444444444443| 4.522222222222222| 46.30769230769231|   1009.8461538461538|\n",
      "|      12|      23.333333333333332|3.4875000000000003|              37.1|             1008.875|\n",
      "|      13|      29.285714285714285| 6.949999999999999|             33.75|              1004.25|\n",
      "|      14|                  25.625|              4.65|            21.125|   1002.8888888888889|\n",
      "|      15|      27.857142857142858|1.3875000000000002|             17.75|   1002.4444444444445|\n",
      "|      16|       32.55555555555556| 5.366666666666666|            24.125|              998.625|\n",
      "|      17|                    32.0|12.157142857142858|27.142857142857142|   1004.1428571428571|\n",
      "|      52|       15.91304347826087| 2.743478260869565|  85.8695652173913|                 59.0|\n",
      "+--------+------------------------+------------------+------------------+---------------------+\n",
      "\n"
     ]
    }
   ],
   "source": [
    "ddc1.groupBy('week_num').agg(min(col('meantemp')).alias('minimum mean temperature'),min(col('wind_speed')).alias('minimum wind speed'),min(col('humidity')).alias('minimum humidity'),min(col('meanpressure')).alias('minimum mean pressure')).orderBy('week_num',ascending=True).show()"
   ]
  },
  {
   "cell_type": "code",
   "execution_count": null,
   "metadata": {},
   "outputs": [],
   "source": []
  }
 ],
 "metadata": {
  "kernelspec": {
   "display_name": "Python 3",
   "language": "python",
   "name": "python3"
  },
  "language_info": {
   "codemirror_mode": {
    "name": "ipython",
    "version": 3
   },
   "file_extension": ".py",
   "mimetype": "text/x-python",
   "name": "python",
   "nbconvert_exporter": "python",
   "pygments_lexer": "ipython3",
   "version": "3.7.4"
  }
 },
 "nbformat": 4,
 "nbformat_minor": 2
}
