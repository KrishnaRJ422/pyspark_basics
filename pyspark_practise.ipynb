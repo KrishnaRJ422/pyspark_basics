{
 "cells": [
  {
   "cell_type": "code",
   "execution_count": 2,
   "metadata": {},
   "outputs": [
    {
     "data": {
      "text/html": [
       "\n",
       "            <div>\n",
       "                <p><b>SparkSession - in-memory</b></p>\n",
       "                \n",
       "        <div>\n",
       "            <p><b>SparkContext</b></p>\n",
       "\n",
       "            <p><a href=\"http://KrishnaKanth:4040\">Spark UI</a></p>\n",
       "\n",
       "            <dl>\n",
       "              <dt>Version</dt>\n",
       "                <dd><code>v3.0.1</code></dd>\n",
       "              <dt>Master</dt>\n",
       "                <dd><code>local[*]</code></dd>\n",
       "              <dt>AppName</dt>\n",
       "                <dd><code>basics</code></dd>\n",
       "            </dl>\n",
       "        </div>\n",
       "        \n",
       "            </div>\n",
       "        "
      ],
      "text/plain": [
       "<pyspark.sql.session.SparkSession at 0x18611983b08>"
      ]
     },
     "execution_count": 2,
     "metadata": {},
     "output_type": "execute_result"
    }
   ],
   "source": [
    "import pyspark\n",
    "from pyspark.sql import SparkSession\n",
    "spark= SparkSession.builder.appName(\"basics\").getOrCreate()\n",
    "spark"
   ]
  },
  {
   "cell_type": "markdown",
   "metadata": {},
   "source": [
    "### reading csv file"
   ]
  },
  {
   "cell_type": "code",
   "execution_count": 3,
   "metadata": {},
   "outputs": [
    {
     "name": "stdout",
     "output_type": "stream",
     "text": [
      "+------+--------------+-------------+-------------------------------------------------+------------------------------------------------------+-----------------------------------------------------+----------------------------------------------------------+-----------------------------------+------------------------------+-------------------------------------------+----------------------------------+----------------------------------------------------------+-----------------------+------------------------------------------------------------------+----------------------------------------------------------+---------------------------------------+\n",
      "|Sl.No |         STATE|     District|Recharge from Rainfall during Monsoon season(Ham)|Recharge From Other Sources during monsoon season(Ham)|Recharge from Rainfall during non-monsoon season(Ham)|Recharge From Other Sources during non-monsoon season(Ham)|Annual Replenishable resources(Ham)|Annual Natural Discharge (Ham)|Net Annual Ground Water Availability  (Ham)|Draft due to Irrigation Needs(Ham)|Draft due to Domestic & Industrial Water Supply Needs(Ham)|Total annual Draft(Ham)|Projected demand for Domestic and Industrial uses  upto 2025 (Ham)| Ground Water Availability for Future Irrigation use (Ham)|Stage of Ground Water Develop ment (%) |\n",
      "+------+--------------+-------------+-------------------------------------------------+------------------------------------------------------+-----------------------------------------------------+----------------------------------------------------------+-----------------------------------+------------------------------+-------------------------------------------+----------------------------------+----------------------------------------------------------+-----------------------+------------------------------------------------------------------+----------------------------------------------------------+---------------------------------------+\n",
      "|     1|ANDHRA PRADESH|   Srikakulam|                                            40417|                                                 38297|                                                24646|                                                     19754|                             123115|                         11733|                                     111382|                             38291|                                                      4504|                  42795|                                                             17584|                                                     62902|                                     38|\n",
      "|     2|ANDHRA PRADESH| Vizianagaram|                                            42539|                                                 22254|                                                28250|                                                      7492|                             100534|                          8936|                                      91598|                             16894|                                                       918|                  17812|                                                              6116|                                                     68723|                                     19|\n",
      "|     3|ANDHRA PRADESH|Visakhapatnam|                                            73586|                                                  5905|                                                13328|                                                      5271|                              98090|                          8636|                                      89454|                             13442|                                                      4485|                  17927|                                                             12541|                                                     63470|                                     20|\n",
      "+------+--------------+-------------+-------------------------------------------------+------------------------------------------------------+-----------------------------------------------------+----------------------------------------------------------+-----------------------------------+------------------------------+-------------------------------------------+----------------------------------+----------------------------------------------------------+-----------------------+------------------------------------------------------------------+----------------------------------------------------------+---------------------------------------+\n",
      "only showing top 3 rows\n",
      "\n"
     ]
    }
   ],
   "source": [
    "df= spark.read.csv(\"C:/Users/krish/OneDrive/Documents/UoH/datasets tableau project/water_level_dataset_data_gov_in.csv\",header=True)\n",
    "df.show(3)"
   ]
  },
  {
   "cell_type": "markdown",
   "metadata": {},
   "source": [
    "### printing schema of the file"
   ]
  },
  {
   "cell_type": "code",
   "execution_count": 4,
   "metadata": {},
   "outputs": [
    {
     "name": "stdout",
     "output_type": "stream",
     "text": [
      "root\n",
      " |-- Sl.No : string (nullable = true)\n",
      " |-- STATE: string (nullable = true)\n",
      " |-- District: string (nullable = true)\n",
      " |-- Recharge from Rainfall during Monsoon season(Ham): string (nullable = true)\n",
      " |-- Recharge From Other Sources during monsoon season(Ham): string (nullable = true)\n",
      " |-- Recharge from Rainfall during non-monsoon season(Ham): string (nullable = true)\n",
      " |-- Recharge From Other Sources during non-monsoon season(Ham): string (nullable = true)\n",
      " |-- Annual Replenishable resources(Ham): string (nullable = true)\n",
      " |-- Annual Natural Discharge (Ham): string (nullable = true)\n",
      " |-- Net Annual Ground Water Availability  (Ham): string (nullable = true)\n",
      " |-- Draft due to Irrigation Needs(Ham): string (nullable = true)\n",
      " |-- Draft due to Domestic & Industrial Water Supply Needs(Ham): string (nullable = true)\n",
      " |-- Total annual Draft(Ham): string (nullable = true)\n",
      " |-- Projected demand for Domestic and Industrial uses  upto 2025 (Ham): string (nullable = true)\n",
      " |--  Ground Water Availability for Future Irrigation use (Ham): string (nullable = true)\n",
      " |-- Stage of Ground Water Develop ment (%) : string (nullable = true)\n",
      "\n"
     ]
    }
   ],
   "source": [
    "df.printSchema()"
   ]
  },
  {
   "cell_type": "markdown",
   "metadata": {},
   "source": [
    "### reading file with custom defined schema"
   ]
  },
  {
   "cell_type": "code",
   "execution_count": 5,
   "metadata": {},
   "outputs": [
    {
     "name": "stdout",
     "output_type": "stream",
     "text": [
      "+-----+-----------------+-------------------+--------------------------------------------+-------------------------------------------------+------------------------------------------------+-----------------------------------------------------+------------------------------+------------------------+------------------------------------+-----------------------------+-------------------------------------------------------+------------------+-----------------------------------------------------------+---------------------------------------------------+---------------------------------+\n",
      "|Sl_No|            state|           district|Recharge_from_Rainfall_during_Monsoon_season|Recharge_From_Other_Sources_during_monsoon_season|Recharge_from_Rainfall_during_non_monsoon_season|Recharge_From_Other_Sources_during_non_monsoon_season|Annual_Replenishable_resources|Annual_Natural_Discharge|Net_Annual_Ground_Water_Availability|Draft_due_to_Irrigation_Needs|Draft_due_to_Domestic_and_Industrial_Water_Supply_Needs|Total_annual_Draft|Projected_demand_for_Domestic_and_Industrial_uses_upto_2025|Ground_Water_Availability_for_Future_Irrigation_use|Stage_of_Ground_Water_Development|\n",
      "+-----+-----------------+-------------------+--------------------------------------------+-------------------------------------------------+------------------------------------------------+-----------------------------------------------------+------------------------------+------------------------+------------------------------------+-----------------------------+-------------------------------------------------------+------------------+-----------------------------------------------------------+---------------------------------------------------+---------------------------------+\n",
      "|    1|   ANDHRA PRADESH|         Srikakulam|                                     40417.0|                                          38297.0|                                         24646.0|                                              19754.0|                      123115.0|                 11733.0|                            111382.0|                      38291.0|                                                 4504.0|           42795.0|                                                    17584.0|                                            62902.0|                             38.0|\n",
      "|    2|   ANDHRA PRADESH|       Vizianagaram|                                     42539.0|                                          22254.0|                                         28250.0|                                               7492.0|                      100534.0|                  8936.0|                             91598.0|                      16894.0|                                                  918.0|           17812.0|                                                     6116.0|                                            68723.0|                             19.0|\n",
      "|    3|   ANDHRA PRADESH|      Visakhapatnam|                                     73586.0|                                           5905.0|                                         13328.0|                                               5271.0|                       98090.0|                  8636.0|                             89454.0|                      13442.0|                                                 4485.0|           17927.0|                                                    12541.0|                                            63470.0|                             20.0|\n",
      "|    4|   ANDHRA PRADESH|      East Godavari|                                     69958.0|                                          37094.0|                                         38290.0|                                              24618.0|                      169960.0|                 16007.0|                            153953.0|                      33967.0|                                                 9075.0|           43042.0|                                                    14482.0|                                           106654.0|                             28.0|\n",
      "|    5|   ANDHRA PRADESH|      West Godavari|                                     58870.0|                                          42876.0|                                         23364.0|                                              45290.0|                      170399.0|                 16033.0|                            154366.0|                      59783.0|                                                  967.0|           60750.0|                                                    10080.0|                                            85823.0|                             39.0|\n",
      "|    6|   ANDHRA PRADESH|            Krishna|                                     47059.0|                                          63644.0|                                         22479.0|                                              17616.0|                      150798.0|                 14502.0|                            136296.0|                      45270.0|                                                 9539.0|           54809.0|                                                     9539.0|                                            82026.0|                             40.0|\n",
      "|    7|   ANDHRA PRADESH|             Guntur|                                     37569.0|                                          83241.0|                                         24505.0|                                              18180.0|                      163499.0|                 15955.0|                         147544.1843|                      40902.0|                                                 6545.0|           47447.0|                                                    14685.0|                                           100727.0|                             32.0|\n",
      "|    8|   ANDHRA PRADESH|           Prakasam|                                     57624.0|                                          20460.0|                                         25579.0|                                              68527.0|                      172190.0|                 16194.0|                         155996.3639|                      50627.0|                                                 2120.0|           52747.0|                                                     9677.0|                                           100062.0|                             34.0|\n",
      "|    9|   ANDHRA PRADESH|            Nellore|                                    160189.0|                                          36313.0|                                           772.0|                                              85132.0|                      282406.0|                 25677.0|                            256729.0|                      74470.0|                                                 5804.0|           80274.0|                                                     9535.0|                                           172725.0|                             31.0|\n",
      "|   10|   ANDHRA PRADESH|           Chittoor|                                    134147.0|                                          15718.0|                                          9185.0|                                              23505.0|                      182555.0|                 17673.0|                            164882.0|                     100549.0|                                                17147.0|          117696.0|                                                    18817.0|                                            47341.0|                             71.0|\n",
      "|   11|   ANDHRA PRADESH|             Kadapa|                                     47303.0|                                           9645.0|                                         38097.0|                                              14720.0|                      109765.0|                 10507.0|                             99258.0|                      63987.0|                                                 5780.0|           69767.0|                                                     9456.0|                                            27016.0|                             70.0|\n",
      "|   12|   ANDHRA PRADESH|          Anantapur|                                     70802.0|                                          19520.0|                                         43047.0|                                              31393.0|                      164762.0|                 15225.0|                            149537.0|                     129642.0|                                                10730.0|          140372.0|                                                    18684.0|                                            34765.0|                             94.0|\n",
      "|   13|   ANDHRA PRADESH|            Kurnool|                                     56720.0|                                          30261.0|                                         29164.0|                                              35273.0|                      151418.0|                 14353.0|                            137065.0|                      61274.0|                                                 3688.0|           64962.0|                                                    13214.0|                                            68736.0|                             47.0|\n",
      "|   14|ARUNACHAL PRADESH|              Tirap|                                      7208.0|                                             0.07|                                          2044.0|                                                  0.1|                       9252.17|                   925.0|                             8327.17|                          2.8|                                                   17.8|              20.6|                                                       57.0|                                            8267.37|                      0.247382964|\n",
      "|   15|ARUNACHAL PRADESH|          Changlang|                                     20761.0|                                            17.83|                                          6907.0|                                                26.74|                      27712.57|                  2771.0|                            24941.57|                         25.5|                                                   98.7|             124.2|                                                      204.0|                                           24712.07|                      0.497963841|\n",
      "|   16|ARUNACHAL PRADESH|              Lohit|                                    142890.0|                                              0.0|                                         52307.0|                                                  0.0|                      195197.0|                 19520.0|                            175677.0|                          5.3|                                                  252.8|             258.1|                                                     1081.0|                                           174590.7|                      0.146917354|\n",
      "|   17|ARUNACHAL PRADESH|              Anjaw|                                         0.0|                                              0.0|                                             0.0|                                                  0.0|                           0.0|                     0.0|                                 0.0|                          0.0|                                                    0.0|               0.0|                                                        0.0|                                                0.0|                              0.0|\n",
      "|   18|ARUNACHAL PRADESH|      Dibang valley|                                         0.0|                                              0.0|                                             0.0|                                                  0.0|                           0.0|                     0.0|                                 0.0|                          0.0|                                                    0.0|               0.0|                                                        0.0|                                                0.0|                              0.0|\n",
      "|   19|ARUNACHAL PRADESH|Lower Dibang Valley|                                     70406.0|                                              0.0|                                         24947.0|                                                  0.0|                       95353.0|                  9535.0|                             85818.0|                         33.5|                                                   48.0|              81.5|                                                      161.0|                                            85623.5|                      0.094968422|\n",
      "|   20|ARUNACHAL PRADESH|         East Siang|                                     60304.0|                                             8.07|                                         14949.0|                                                 12.1|                      75273.17|                  7527.0|                            67746.17|                         70.6|                                                  179.0|             249.6|                                                      366.0|                                           67309.57|                      0.368434112|\n",
      "+-----+-----------------+-------------------+--------------------------------------------+-------------------------------------------------+------------------------------------------------+-----------------------------------------------------+------------------------------+------------------------+------------------------------------+-----------------------------+-------------------------------------------------------+------------------+-----------------------------------------------------------+---------------------------------------------------+---------------------------------+\n",
      "only showing top 20 rows\n",
      "\n"
     ]
    }
   ],
   "source": [
    "from pyspark.sql.types import StructField,IntegerType,StringType,StructType,FloatType,DoubleType\n",
    "myschema= StructType([\n",
    "    StructField('Sl_No',IntegerType()),\n",
    "    StructField('state',StringType()),\n",
    "    StructField('district',StringType()),\n",
    "    StructField('Recharge_from_Rainfall_during_Monsoon_season',DoubleType()),\n",
    "    StructField('Recharge_From_Other_Sources_during_monsoon_season',DoubleType()),\n",
    "    StructField('Recharge_from_Rainfall_during_non_monsoon_season',DoubleType()),\n",
    "    StructField('Recharge_From_Other_Sources_during_non_monsoon_season',DoubleType()),\n",
    "    StructField('Annual_Replenishable_resources',DoubleType()),\n",
    "    StructField('Annual_Natural_Discharge',DoubleType()),\n",
    "    StructField('Net_Annual_Ground_Water_Availability',DoubleType()),\n",
    "    StructField('Draft_due_to_Irrigation_Needs',DoubleType()),\n",
    "    StructField('Draft_due_to_Domestic_and_Industrial_Water_Supply_Needs',DoubleType()),\n",
    "    StructField('Total_annual_Draft',DoubleType()),\n",
    "    StructField('Projected_demand_for_Domestic_and_Industrial_uses_upto_2025',DoubleType()),\n",
    "    StructField('Ground_Water_Availability_for_Future_Irrigation_use',DoubleType()),\n",
    "    StructField('Stage_of_Ground_Water_Development',DoubleType())    \n",
    "])\n",
    "df_new=spark.read.csv(\"C:/Users/krish/OneDrive/Documents/UoH/datasets tableau project/water_level_dataset_data_gov_in.csv\",header=True, schema=myschema)\n",
    "df_new.show()"
   ]
  },
  {
   "cell_type": "code",
   "execution_count": 6,
   "metadata": {},
   "outputs": [
    {
     "name": "stdout",
     "output_type": "stream",
     "text": [
      "root\n",
      " |-- Sl_No: integer (nullable = true)\n",
      " |-- state: string (nullable = true)\n",
      " |-- district: string (nullable = true)\n",
      " |-- Recharge_from_Rainfall_during_Monsoon_season: double (nullable = true)\n",
      " |-- Recharge_From_Other_Sources_during_monsoon_season: double (nullable = true)\n",
      " |-- Recharge_from_Rainfall_during_non_monsoon_season: double (nullable = true)\n",
      " |-- Recharge_From_Other_Sources_during_non_monsoon_season: double (nullable = true)\n",
      " |-- Annual_Replenishable_resources: double (nullable = true)\n",
      " |-- Annual_Natural_Discharge: double (nullable = true)\n",
      " |-- Net_Annual_Ground_Water_Availability: double (nullable = true)\n",
      " |-- Draft_due_to_Irrigation_Needs: double (nullable = true)\n",
      " |-- Draft_due_to_Domestic_and_Industrial_Water_Supply_Needs: double (nullable = true)\n",
      " |-- Total_annual_Draft: double (nullable = true)\n",
      " |-- Projected_demand_for_Domestic_and_Industrial_uses_upto_2025: double (nullable = true)\n",
      " |-- Ground_Water_Availability_for_Future_Irrigation_use: double (nullable = true)\n",
      " |-- Stage_of_Ground_Water_Development: double (nullable = true)\n",
      "\n"
     ]
    }
   ],
   "source": [
    "df_new.printSchema()\n",
    "#df1=df.drop((col(\"_c0\")=='662')).collect()"
   ]
  },
  {
   "cell_type": "code",
   "execution_count": 7,
   "metadata": {},
   "outputs": [
    {
     "data": {
      "text/plain": [
       "pyspark.sql.dataframe.DataFrame"
      ]
     },
     "execution_count": 7,
     "metadata": {},
     "output_type": "execute_result"
    }
   ],
   "source": [
    "type(df_new)"
   ]
  },
  {
   "cell_type": "code",
   "execution_count": 8,
   "metadata": {},
   "outputs": [
    {
     "data": {
      "text/plain": [
       "DataFrame[summary: string, Sl_No: string, state: string, district: string, Recharge_from_Rainfall_during_Monsoon_season: string, Recharge_From_Other_Sources_during_monsoon_season: string, Recharge_from_Rainfall_during_non_monsoon_season: string, Recharge_From_Other_Sources_during_non_monsoon_season: string, Annual_Replenishable_resources: string, Annual_Natural_Discharge: string, Net_Annual_Ground_Water_Availability: string, Draft_due_to_Irrigation_Needs: string, Draft_due_to_Domestic_and_Industrial_Water_Supply_Needs: string, Total_annual_Draft: string, Projected_demand_for_Domestic_and_Industrial_uses_upto_2025: string, Ground_Water_Availability_for_Future_Irrigation_use: string, Stage_of_Ground_Water_Development: string]"
      ]
     },
     "execution_count": 8,
     "metadata": {},
     "output_type": "execute_result"
    }
   ],
   "source": [
    "df_new.describe()"
   ]
  },
  {
   "cell_type": "code",
   "execution_count": 9,
   "metadata": {},
   "outputs": [
    {
     "name": "stdout",
     "output_type": "stream",
     "text": [
      "+-----+-----------------+-------------------+--------------------------------------------+-------------------------------------------------+------------------------------------------------+-----------------------------------------------------+------------------------------+------------------------+------------------------------------+-----------------------------+-------------------------------------------------------+------------------+-----------------------------------------------------------+---------------------------------------------------+---------------------------------+\n",
      "|Sl_No|            state|           district|Recharge_from_Rainfall_during_Monsoon_season|Recharge_From_Other_Sources_during_monsoon_season|Recharge_from_Rainfall_during_non_monsoon_season|Recharge_From_Other_Sources_during_non_monsoon_season|Annual_Replenishable_resources|Annual_Natural_Discharge|Net_Annual_Ground_Water_Availability|Draft_due_to_Irrigation_Needs|Draft_due_to_Domestic_and_Industrial_Water_Supply_Needs|Total_annual_Draft|Projected_demand_for_Domestic_and_Industrial_uses_upto_2025|Ground_Water_Availability_for_Future_Irrigation_use|Stage_of_Ground_Water_Development|\n",
      "+-----+-----------------+-------------------+--------------------------------------------+-------------------------------------------------+------------------------------------------------+-----------------------------------------------------+------------------------------+------------------------+------------------------------------+-----------------------------+-------------------------------------------------------+------------------+-----------------------------------------------------------+---------------------------------------------------+---------------------------------+\n",
      "|    1|   ANDHRA PRADESH|         Srikakulam|                                     40417.0|                                          38297.0|                                         24646.0|                                              19754.0|                      123115.0|                 11733.0|                            111382.0|                      38291.0|                                                 4504.0|           42795.0|                                                    17584.0|                                            62902.0|                             38.0|\n",
      "|    2|   ANDHRA PRADESH|       Vizianagaram|                                     42539.0|                                          22254.0|                                         28250.0|                                               7492.0|                      100534.0|                  8936.0|                             91598.0|                      16894.0|                                                  918.0|           17812.0|                                                     6116.0|                                            68723.0|                             19.0|\n",
      "|    3|   ANDHRA PRADESH|      Visakhapatnam|                                     73586.0|                                           5905.0|                                         13328.0|                                               5271.0|                       98090.0|                  8636.0|                             89454.0|                      13442.0|                                                 4485.0|           17927.0|                                                    12541.0|                                            63470.0|                             20.0|\n",
      "|    4|   ANDHRA PRADESH|      East Godavari|                                     69958.0|                                          37094.0|                                         38290.0|                                              24618.0|                      169960.0|                 16007.0|                            153953.0|                      33967.0|                                                 9075.0|           43042.0|                                                    14482.0|                                           106654.0|                             28.0|\n",
      "|    5|   ANDHRA PRADESH|      West Godavari|                                     58870.0|                                          42876.0|                                         23364.0|                                              45290.0|                      170399.0|                 16033.0|                            154366.0|                      59783.0|                                                  967.0|           60750.0|                                                    10080.0|                                            85823.0|                             39.0|\n",
      "|    6|   ANDHRA PRADESH|            Krishna|                                     47059.0|                                          63644.0|                                         22479.0|                                              17616.0|                      150798.0|                 14502.0|                            136296.0|                      45270.0|                                                 9539.0|           54809.0|                                                     9539.0|                                            82026.0|                             40.0|\n",
      "|    7|   ANDHRA PRADESH|             Guntur|                                     37569.0|                                          83241.0|                                         24505.0|                                              18180.0|                      163499.0|                 15955.0|                         147544.1843|                      40902.0|                                                 6545.0|           47447.0|                                                    14685.0|                                           100727.0|                             32.0|\n",
      "|    8|   ANDHRA PRADESH|           Prakasam|                                     57624.0|                                          20460.0|                                         25579.0|                                              68527.0|                      172190.0|                 16194.0|                         155996.3639|                      50627.0|                                                 2120.0|           52747.0|                                                     9677.0|                                           100062.0|                             34.0|\n",
      "|    9|   ANDHRA PRADESH|            Nellore|                                    160189.0|                                          36313.0|                                           772.0|                                              85132.0|                      282406.0|                 25677.0|                            256729.0|                      74470.0|                                                 5804.0|           80274.0|                                                     9535.0|                                           172725.0|                             31.0|\n",
      "|   10|   ANDHRA PRADESH|           Chittoor|                                    134147.0|                                          15718.0|                                          9185.0|                                              23505.0|                      182555.0|                 17673.0|                            164882.0|                     100549.0|                                                17147.0|          117696.0|                                                    18817.0|                                            47341.0|                             71.0|\n",
      "|   11|   ANDHRA PRADESH|             Kadapa|                                     47303.0|                                           9645.0|                                         38097.0|                                              14720.0|                      109765.0|                 10507.0|                             99258.0|                      63987.0|                                                 5780.0|           69767.0|                                                     9456.0|                                            27016.0|                             70.0|\n",
      "|   12|   ANDHRA PRADESH|          Anantapur|                                     70802.0|                                          19520.0|                                         43047.0|                                              31393.0|                      164762.0|                 15225.0|                            149537.0|                     129642.0|                                                10730.0|          140372.0|                                                    18684.0|                                            34765.0|                             94.0|\n",
      "|   13|   ANDHRA PRADESH|            Kurnool|                                     56720.0|                                          30261.0|                                         29164.0|                                              35273.0|                      151418.0|                 14353.0|                            137065.0|                      61274.0|                                                 3688.0|           64962.0|                                                    13214.0|                                            68736.0|                             47.0|\n",
      "|   14|ARUNACHAL PRADESH|              Tirap|                                      7208.0|                                             0.07|                                          2044.0|                                                  0.1|                       9252.17|                   925.0|                             8327.17|                          2.8|                                                   17.8|              20.6|                                                       57.0|                                            8267.37|                      0.247382964|\n",
      "|   15|ARUNACHAL PRADESH|          Changlang|                                     20761.0|                                            17.83|                                          6907.0|                                                26.74|                      27712.57|                  2771.0|                            24941.57|                         25.5|                                                   98.7|             124.2|                                                      204.0|                                           24712.07|                      0.497963841|\n",
      "|   16|ARUNACHAL PRADESH|              Lohit|                                    142890.0|                                              0.0|                                         52307.0|                                                  0.0|                      195197.0|                 19520.0|                            175677.0|                          5.3|                                                  252.8|             258.1|                                                     1081.0|                                           174590.7|                      0.146917354|\n",
      "|   17|ARUNACHAL PRADESH|              Anjaw|                                         0.0|                                              0.0|                                             0.0|                                                  0.0|                           0.0|                     0.0|                                 0.0|                          0.0|                                                    0.0|               0.0|                                                        0.0|                                                0.0|                              0.0|\n",
      "|   18|ARUNACHAL PRADESH|      Dibang valley|                                         0.0|                                              0.0|                                             0.0|                                                  0.0|                           0.0|                     0.0|                                 0.0|                          0.0|                                                    0.0|               0.0|                                                        0.0|                                                0.0|                              0.0|\n",
      "|   19|ARUNACHAL PRADESH|Lower Dibang Valley|                                     70406.0|                                              0.0|                                         24947.0|                                                  0.0|                       95353.0|                  9535.0|                             85818.0|                         33.5|                                                   48.0|              81.5|                                                      161.0|                                            85623.5|                      0.094968422|\n",
      "|   20|ARUNACHAL PRADESH|         East Siang|                                     60304.0|                                             8.07|                                         14949.0|                                                 12.1|                      75273.17|                  7527.0|                            67746.17|                         70.6|                                                  179.0|             249.6|                                                      366.0|                                           67309.57|                      0.368434112|\n",
      "+-----+-----------------+-------------------+--------------------------------------------+-------------------------------------------------+------------------------------------------------+-----------------------------------------------------+------------------------------+------------------------+------------------------------------+-----------------------------+-------------------------------------------------------+------------------+-----------------------------------------------------------+---------------------------------------------------+---------------------------------+\n",
      "only showing top 20 rows\n",
      "\n"
     ]
    }
   ],
   "source": [
    "df_new.show()"
   ]
  },
  {
   "cell_type": "code",
   "execution_count": 10,
   "metadata": {
    "scrolled": false
   },
   "outputs": [
    {
     "data": {
      "text/plain": [
       "662"
      ]
     },
     "execution_count": 10,
     "metadata": {},
     "output_type": "execute_result"
    }
   ],
   "source": [
    "df_new.count()"
   ]
  },
  {
   "cell_type": "markdown",
   "metadata": {},
   "source": [
    "### viewing top rows of single column"
   ]
  },
  {
   "cell_type": "code",
   "execution_count": 11,
   "metadata": {},
   "outputs": [
    {
     "name": "stdout",
     "output_type": "stream",
     "text": [
      "+-----------------+\n",
      "|            state|\n",
      "+-----------------+\n",
      "|   ANDHRA PRADESH|\n",
      "|   ANDHRA PRADESH|\n",
      "|   ANDHRA PRADESH|\n",
      "|   ANDHRA PRADESH|\n",
      "|   ANDHRA PRADESH|\n",
      "|   ANDHRA PRADESH|\n",
      "|   ANDHRA PRADESH|\n",
      "|   ANDHRA PRADESH|\n",
      "|   ANDHRA PRADESH|\n",
      "|   ANDHRA PRADESH|\n",
      "|   ANDHRA PRADESH|\n",
      "|   ANDHRA PRADESH|\n",
      "|   ANDHRA PRADESH|\n",
      "|ARUNACHAL PRADESH|\n",
      "|ARUNACHAL PRADESH|\n",
      "|ARUNACHAL PRADESH|\n",
      "|ARUNACHAL PRADESH|\n",
      "|ARUNACHAL PRADESH|\n",
      "|ARUNACHAL PRADESH|\n",
      "|ARUNACHAL PRADESH|\n",
      "+-----------------+\n",
      "only showing top 20 rows\n",
      "\n"
     ]
    }
   ],
   "source": [
    "df_new.select('state').show()"
   ]
  },
  {
   "cell_type": "markdown",
   "metadata": {},
   "source": [
    "### viewing data of multiple columns"
   ]
  },
  {
   "cell_type": "code",
   "execution_count": 12,
   "metadata": {},
   "outputs": [
    {
     "name": "stdout",
     "output_type": "stream",
     "text": [
      "+-----+---------------------------------+\n",
      "|Sl_No|Stage_of_Ground_Water_Development|\n",
      "+-----+---------------------------------+\n",
      "|    1|                             38.0|\n",
      "|    2|                             19.0|\n",
      "|    3|                             20.0|\n",
      "|    4|                             28.0|\n",
      "|    5|                             39.0|\n",
      "|    6|                             40.0|\n",
      "|    7|                             32.0|\n",
      "|    8|                             34.0|\n",
      "|    9|                             31.0|\n",
      "|   10|                             71.0|\n",
      "|   11|                             70.0|\n",
      "|   12|                             94.0|\n",
      "|   13|                             47.0|\n",
      "|   14|                      0.247382964|\n",
      "|   15|                      0.497963841|\n",
      "|   16|                      0.146917354|\n",
      "|   17|                              0.0|\n",
      "|   18|                              0.0|\n",
      "|   19|                      0.094968422|\n",
      "|   20|                      0.368434112|\n",
      "|   21|                      0.446344085|\n",
      "|   22|                              0.0|\n",
      "|   23|                      0.118603863|\n",
      "|   24|                              0.0|\n",
      "|   25|                      0.216628396|\n",
      "|   26|                              0.0|\n",
      "|   27|                      1.185044636|\n",
      "|   28|                              0.0|\n",
      "|   29|                              0.0|\n",
      "|   30|                              9.0|\n",
      "+-----+---------------------------------+\n",
      "only showing top 30 rows\n",
      "\n"
     ]
    }
   ],
   "source": [
    "df_new.select('Sl_No','Stage_of_Ground_Water_Development').show(30)"
   ]
  },
  {
   "cell_type": "markdown",
   "metadata": {},
   "source": [
    "### sorting data based on a column data"
   ]
  },
  {
   "cell_type": "code",
   "execution_count": 13,
   "metadata": {},
   "outputs": [
    {
     "name": "stdout",
     "output_type": "stream",
     "text": [
      "+-----+-----------------+-------------------+--------------------------------------------+-------------------------------------------------+------------------------------------------------+-----------------------------------------------------+------------------------------+------------------------+------------------------------------+-----------------------------+-------------------------------------------------------+------------------+-----------------------------------------------------------+---------------------------------------------------+---------------------------------+\n",
      "|Sl_No|            state|           district|Recharge_from_Rainfall_during_Monsoon_season|Recharge_From_Other_Sources_during_monsoon_season|Recharge_from_Rainfall_during_non_monsoon_season|Recharge_From_Other_Sources_during_non_monsoon_season|Annual_Replenishable_resources|Annual_Natural_Discharge|Net_Annual_Ground_Water_Availability|Draft_due_to_Irrigation_Needs|Draft_due_to_Domestic_and_Industrial_Water_Supply_Needs|Total_annual_Draft|Projected_demand_for_Domestic_and_Industrial_uses_upto_2025|Ground_Water_Availability_for_Future_Irrigation_use|Stage_of_Ground_Water_Development|\n",
      "+-----+-----------------+-------------------+--------------------------------------------+-------------------------------------------------+------------------------------------------------+-----------------------------------------------------+------------------------------+------------------------+------------------------------------+-----------------------------+-------------------------------------------------------+------------------+-----------------------------------------------------------+---------------------------------------------------+---------------------------------+\n",
      "|  645|ANDAMAN & NICOBAR|  Andaman & Nicobar|                                   38116.025|                                         3824.791|                                          19.559|                                                 4.89|                     41965.266|                4196.527|                           37768.739|                       14.579|                                                354.783|           369.362|                                                   1615.437|                                          36138.723|                              1.0|\n",
      "|    1|   ANDHRA PRADESH|         Srikakulam|                                     40417.0|                                          38297.0|                                         24646.0|                                              19754.0|                      123115.0|                 11733.0|                            111382.0|                      38291.0|                                                 4504.0|           42795.0|                                                    17584.0|                                            62902.0|                             38.0|\n",
      "|    5|   ANDHRA PRADESH|      West Godavari|                                     58870.0|                                          42876.0|                                         23364.0|                                              45290.0|                      170399.0|                 16033.0|                            154366.0|                      59783.0|                                                  967.0|           60750.0|                                                    10080.0|                                            85823.0|                             39.0|\n",
      "|    2|   ANDHRA PRADESH|       Vizianagaram|                                     42539.0|                                          22254.0|                                         28250.0|                                               7492.0|                      100534.0|                  8936.0|                             91598.0|                      16894.0|                                                  918.0|           17812.0|                                                     6116.0|                                            68723.0|                             19.0|\n",
      "|    3|   ANDHRA PRADESH|      Visakhapatnam|                                     73586.0|                                           5905.0|                                         13328.0|                                               5271.0|                       98090.0|                  8636.0|                             89454.0|                      13442.0|                                                 4485.0|           17927.0|                                                    12541.0|                                            63470.0|                             20.0|\n",
      "|   10|   ANDHRA PRADESH|           Chittoor|                                    134147.0|                                          15718.0|                                          9185.0|                                              23505.0|                      182555.0|                 17673.0|                            164882.0|                     100549.0|                                                17147.0|          117696.0|                                                    18817.0|                                            47341.0|                             71.0|\n",
      "|   11|   ANDHRA PRADESH|             Kadapa|                                     47303.0|                                           9645.0|                                         38097.0|                                              14720.0|                      109765.0|                 10507.0|                             99258.0|                      63987.0|                                                 5780.0|           69767.0|                                                     9456.0|                                            27016.0|                             70.0|\n",
      "|   12|   ANDHRA PRADESH|          Anantapur|                                     70802.0|                                          19520.0|                                         43047.0|                                              31393.0|                      164762.0|                 15225.0|                            149537.0|                     129642.0|                                                10730.0|          140372.0|                                                    18684.0|                                            34765.0|                             94.0|\n",
      "|   13|   ANDHRA PRADESH|            Kurnool|                                     56720.0|                                          30261.0|                                         29164.0|                                              35273.0|                      151418.0|                 14353.0|                            137065.0|                      61274.0|                                                 3688.0|           64962.0|                                                    13214.0|                                            68736.0|                             47.0|\n",
      "|    6|   ANDHRA PRADESH|            Krishna|                                     47059.0|                                          63644.0|                                         22479.0|                                              17616.0|                      150798.0|                 14502.0|                            136296.0|                      45270.0|                                                 9539.0|           54809.0|                                                     9539.0|                                            82026.0|                             40.0|\n",
      "|    7|   ANDHRA PRADESH|             Guntur|                                     37569.0|                                          83241.0|                                         24505.0|                                              18180.0|                      163499.0|                 15955.0|                         147544.1843|                      40902.0|                                                 6545.0|           47447.0|                                                    14685.0|                                           100727.0|                             32.0|\n",
      "|    8|   ANDHRA PRADESH|           Prakasam|                                     57624.0|                                          20460.0|                                         25579.0|                                              68527.0|                      172190.0|                 16194.0|                         155996.3639|                      50627.0|                                                 2120.0|           52747.0|                                                     9677.0|                                           100062.0|                             34.0|\n",
      "|    9|   ANDHRA PRADESH|            Nellore|                                    160189.0|                                          36313.0|                                           772.0|                                              85132.0|                      282406.0|                 25677.0|                            256729.0|                      74470.0|                                                 5804.0|           80274.0|                                                     9535.0|                                           172725.0|                             31.0|\n",
      "|    4|   ANDHRA PRADESH|      East Godavari|                                     69958.0|                                          37094.0|                                         38290.0|                                              24618.0|                      169960.0|                 16007.0|                            153953.0|                      33967.0|                                                 9075.0|           43042.0|                                                    14482.0|                                           106654.0|                             28.0|\n",
      "|   14|ARUNACHAL PRADESH|              Tirap|                                      7208.0|                                             0.07|                                          2044.0|                                                  0.1|                       9252.17|                   925.0|                             8327.17|                          2.8|                                                   17.8|              20.6|                                                       57.0|                                            8267.37|                      0.247382964|\n",
      "|   15|ARUNACHAL PRADESH|          Changlang|                                     20761.0|                                            17.83|                                          6907.0|                                                26.74|                      27712.57|                  2771.0|                            24941.57|                         25.5|                                                   98.7|             124.2|                                                      204.0|                                           24712.07|                      0.497963841|\n",
      "|   16|ARUNACHAL PRADESH|              Lohit|                                    142890.0|                                              0.0|                                         52307.0|                                                  0.0|                      195197.0|                 19520.0|                            175677.0|                          5.3|                                                  252.8|             258.1|                                                     1081.0|                                           174590.7|                      0.146917354|\n",
      "|   19|ARUNACHAL PRADESH|Lower Dibang Valley|                                     70406.0|                                              0.0|                                         24947.0|                                                  0.0|                       95353.0|                  9535.0|                             85818.0|                         33.5|                                                   48.0|              81.5|                                                      161.0|                                            85623.5|                      0.094968422|\n",
      "|   17|ARUNACHAL PRADESH|              Anjaw|                                         0.0|                                              0.0|                                             0.0|                                                  0.0|                           0.0|                     0.0|                                 0.0|                          0.0|                                                    0.0|               0.0|                                                        0.0|                                                0.0|                              0.0|\n",
      "|   20|ARUNACHAL PRADESH|         East Siang|                                     60304.0|                                             8.07|                                         14949.0|                                                 12.1|                      75273.17|                  7527.0|                            67746.17|                         70.6|                                                  179.0|             249.6|                                                      366.0|                                           67309.57|                      0.368434112|\n",
      "+-----+-----------------+-------------------+--------------------------------------------+-------------------------------------------------+------------------------------------------------+-----------------------------------------------------+------------------------------+------------------------+------------------------------------+-----------------------------+-------------------------------------------------------+------------------+-----------------------------------------------------------+---------------------------------------------------+---------------------------------+\n",
      "only showing top 20 rows\n",
      "\n"
     ]
    }
   ],
   "source": [
    "df_new.orderBy(df_new.state.asc()).show()"
   ]
  },
  {
   "cell_type": "markdown",
   "metadata": {},
   "source": [
    "### sorting based on multiple columns"
   ]
  },
  {
   "cell_type": "code",
   "execution_count": 14,
   "metadata": {},
   "outputs": [
    {
     "name": "stdout",
     "output_type": "stream",
     "text": [
      "+-----+-----------------+-----------------+--------------------------------------------+-------------------------------------------------+------------------------------------------------+-----------------------------------------------------+------------------------------+------------------------+------------------------------------+-----------------------------+-------------------------------------------------------+------------------+-----------------------------------------------------------+---------------------------------------------------+---------------------------------+\n",
      "|Sl_No|            state|         district|Recharge_from_Rainfall_during_Monsoon_season|Recharge_From_Other_Sources_during_monsoon_season|Recharge_from_Rainfall_during_non_monsoon_season|Recharge_From_Other_Sources_during_non_monsoon_season|Annual_Replenishable_resources|Annual_Natural_Discharge|Net_Annual_Ground_Water_Availability|Draft_due_to_Irrigation_Needs|Draft_due_to_Domestic_and_Industrial_Water_Supply_Needs|Total_annual_Draft|Projected_demand_for_Domestic_and_Industrial_uses_upto_2025|Ground_Water_Availability_for_Future_Irrigation_use|Stage_of_Ground_Water_Development|\n",
      "+-----+-----------------+-----------------+--------------------------------------------+-------------------------------------------------+------------------------------------------------+-----------------------------------------------------+------------------------------+------------------------+------------------------------------+-----------------------------+-------------------------------------------------------+------------------+-----------------------------------------------------------+---------------------------------------------------+---------------------------------+\n",
      "|  645|ANDAMAN & NICOBAR|Andaman & Nicobar|                                   38116.025|                                         3824.791|                                          19.559|                                                 4.89|                     41965.266|                4196.527|                           37768.739|                       14.579|                                                354.783|           369.362|                                                   1615.437|                                          36138.723|                              1.0|\n",
      "|   12|   ANDHRA PRADESH|        Anantapur|                                     70802.0|                                          19520.0|                                         43047.0|                                              31393.0|                      164762.0|                 15225.0|                            149537.0|                     129642.0|                                                10730.0|          140372.0|                                                    18684.0|                                            34765.0|                             94.0|\n",
      "|   10|   ANDHRA PRADESH|         Chittoor|                                    134147.0|                                          15718.0|                                          9185.0|                                              23505.0|                      182555.0|                 17673.0|                            164882.0|                     100549.0|                                                17147.0|          117696.0|                                                    18817.0|                                            47341.0|                             71.0|\n",
      "|    4|   ANDHRA PRADESH|    East Godavari|                                     69958.0|                                          37094.0|                                         38290.0|                                              24618.0|                      169960.0|                 16007.0|                            153953.0|                      33967.0|                                                 9075.0|           43042.0|                                                    14482.0|                                           106654.0|                             28.0|\n",
      "|    7|   ANDHRA PRADESH|           Guntur|                                     37569.0|                                          83241.0|                                         24505.0|                                              18180.0|                      163499.0|                 15955.0|                         147544.1843|                      40902.0|                                                 6545.0|           47447.0|                                                    14685.0|                                           100727.0|                             32.0|\n",
      "|   11|   ANDHRA PRADESH|           Kadapa|                                     47303.0|                                           9645.0|                                         38097.0|                                              14720.0|                      109765.0|                 10507.0|                             99258.0|                      63987.0|                                                 5780.0|           69767.0|                                                     9456.0|                                            27016.0|                             70.0|\n",
      "|    6|   ANDHRA PRADESH|          Krishna|                                     47059.0|                                          63644.0|                                         22479.0|                                              17616.0|                      150798.0|                 14502.0|                            136296.0|                      45270.0|                                                 9539.0|           54809.0|                                                     9539.0|                                            82026.0|                             40.0|\n",
      "|   13|   ANDHRA PRADESH|          Kurnool|                                     56720.0|                                          30261.0|                                         29164.0|                                              35273.0|                      151418.0|                 14353.0|                            137065.0|                      61274.0|                                                 3688.0|           64962.0|                                                    13214.0|                                            68736.0|                             47.0|\n",
      "|    9|   ANDHRA PRADESH|          Nellore|                                    160189.0|                                          36313.0|                                           772.0|                                              85132.0|                      282406.0|                 25677.0|                            256729.0|                      74470.0|                                                 5804.0|           80274.0|                                                     9535.0|                                           172725.0|                             31.0|\n",
      "|    8|   ANDHRA PRADESH|         Prakasam|                                     57624.0|                                          20460.0|                                         25579.0|                                              68527.0|                      172190.0|                 16194.0|                         155996.3639|                      50627.0|                                                 2120.0|           52747.0|                                                     9677.0|                                           100062.0|                             34.0|\n",
      "|    1|   ANDHRA PRADESH|       Srikakulam|                                     40417.0|                                          38297.0|                                         24646.0|                                              19754.0|                      123115.0|                 11733.0|                            111382.0|                      38291.0|                                                 4504.0|           42795.0|                                                    17584.0|                                            62902.0|                             38.0|\n",
      "|    3|   ANDHRA PRADESH|    Visakhapatnam|                                     73586.0|                                           5905.0|                                         13328.0|                                               5271.0|                       98090.0|                  8636.0|                             89454.0|                      13442.0|                                                 4485.0|           17927.0|                                                    12541.0|                                            63470.0|                             20.0|\n",
      "|    2|   ANDHRA PRADESH|     Vizianagaram|                                     42539.0|                                          22254.0|                                         28250.0|                                               7492.0|                      100534.0|                  8936.0|                             91598.0|                      16894.0|                                                  918.0|           17812.0|                                                     6116.0|                                            68723.0|                             19.0|\n",
      "|    5|   ANDHRA PRADESH|    West Godavari|                                     58870.0|                                          42876.0|                                         23364.0|                                              45290.0|                      170399.0|                 16033.0|                            154366.0|                      59783.0|                                                  967.0|           60750.0|                                                    10080.0|                                            85823.0|                             39.0|\n",
      "|   17|ARUNACHAL PRADESH|            Anjaw|                                         0.0|                                              0.0|                                             0.0|                                                  0.0|                           0.0|                     0.0|                                 0.0|                          0.0|                                                    0.0|               0.0|                                                        0.0|                                                0.0|                              0.0|\n",
      "|   15|ARUNACHAL PRADESH|        Changlang|                                     20761.0|                                            17.83|                                          6907.0|                                                26.74|                      27712.57|                  2771.0|                            24941.57|                         25.5|                                                   98.7|             124.2|                                                      204.0|                                           24712.07|                      0.497963841|\n",
      "|   18|ARUNACHAL PRADESH|    Dibang valley|                                         0.0|                                              0.0|                                             0.0|                                                  0.0|                           0.0|                     0.0|                                 0.0|                          0.0|                                                    0.0|               0.0|                                                        0.0|                                                0.0|                              0.0|\n",
      "|   23|ARUNACHAL PRADESH|      East Kameng|                                     13364.0|                                              0.0|                                          3030.0|                                                  0.0|                       16394.0|                  1639.0|                             14755.0|                         15.0|                                                    2.5|              17.5|                                                       14.0|                                            14726.0|                      0.118603863|\n",
      "|   20|ARUNACHAL PRADESH|       East Siang|                                     60304.0|                                             8.07|                                         14949.0|                                                 12.1|                      75273.17|                  7527.0|                            67746.17|                         70.6|                                                  179.0|             249.6|                                                      366.0|                                           67309.57|                      0.368434112|\n",
      "|   29|ARUNACHAL PRADESH|     Kurung Kumey|                                         0.0|                                              0.0|                                             0.0|                                                  0.0|                           0.0|                     0.0|                                 0.0|                          0.0|                                                    0.0|               0.0|                                                        0.0|                                                0.0|                              0.0|\n",
      "+-----+-----------------+-----------------+--------------------------------------------+-------------------------------------------------+------------------------------------------------+-----------------------------------------------------+------------------------------+------------------------+------------------------------------+-----------------------------+-------------------------------------------------------+------------------+-----------------------------------------------------------+---------------------------------------------------+---------------------------------+\n",
      "only showing top 20 rows\n",
      "\n"
     ]
    }
   ],
   "source": [
    "df_new.orderBy([df_new.state,df_new.district],ascending=True).show()"
   ]
  },
  {
   "cell_type": "markdown",
   "metadata": {},
   "source": [
    "### viewing data by filtering based on a condition"
   ]
  },
  {
   "cell_type": "code",
   "execution_count": 15,
   "metadata": {},
   "outputs": [
    {
     "name": "stdout",
     "output_type": "stream",
     "text": [
      "+-----+----------+--------+--------------------------------------------+-------------------------------------------------+------------------------------------------------+-----------------------------------------------------+------------------------------+------------------------+------------------------------------+-----------------------------+-------------------------------------------------------+------------------+-----------------------------------------------------------+---------------------------------------------------+---------------------------------+\n",
      "|Sl_No|     state|district|Recharge_from_Rainfall_during_Monsoon_season|Recharge_From_Other_Sources_during_monsoon_season|Recharge_from_Rainfall_during_non_monsoon_season|Recharge_From_Other_Sources_during_non_monsoon_season|Annual_Replenishable_resources|Annual_Natural_Discharge|Net_Annual_Ground_Water_Availability|Draft_due_to_Irrigation_Needs|Draft_due_to_Domestic_and_Industrial_Water_Supply_Needs|Total_annual_Draft|Projected_demand_for_Domestic_and_Industrial_uses_upto_2025|Ground_Water_Availability_for_Future_Irrigation_use|Stage_of_Ground_Water_Development|\n",
      "+-----+----------+--------+--------------------------------------------+-------------------------------------------------+------------------------------------------------+-----------------------------------------------------+------------------------------+------------------------+------------------------------------+-----------------------------+-------------------------------------------------------+------------------+-----------------------------------------------------------+---------------------------------------------------+---------------------------------+\n",
      "|  662|PUDUCHERRY|   Yanam|                                        null|                                             null|                                            null|                                                 null|                          null|                    null|                                null|                         null|                                                   null|              null|                                                       null|                                               null|                             null|\n",
      "+-----+----------+--------+--------------------------------------------+-------------------------------------------------+------------------------------------------------+-----------------------------------------------------+------------------------------+------------------------+------------------------------------+-----------------------------+-------------------------------------------------------+------------------+-----------------------------------------------------------+---------------------------------------------------+---------------------------------+\n",
      "\n"
     ]
    }
   ],
   "source": [
    "df_new.filter(df_new.Sl_No==662).show()"
   ]
  },
  {
   "cell_type": "markdown",
   "metadata": {},
   "source": [
    "### filtering out data based on a condition"
   ]
  },
  {
   "cell_type": "code",
   "execution_count": 16,
   "metadata": {},
   "outputs": [],
   "source": [
    "df_new=df_new.filter(df_new.district!='Yanam')"
   ]
  },
  {
   "cell_type": "code",
   "execution_count": 17,
   "metadata": {},
   "outputs": [
    {
     "data": {
      "text/plain": [
       "661"
      ]
     },
     "execution_count": 17,
     "metadata": {},
     "output_type": "execute_result"
    }
   ],
   "source": [
    "df_new.count()"
   ]
  },
  {
   "cell_type": "markdown",
   "metadata": {},
   "source": [
    "### checking column wise NULLs and NAs count"
   ]
  },
  {
   "cell_type": "code",
   "execution_count": 18,
   "metadata": {},
   "outputs": [
    {
     "name": "stdout",
     "output_type": "stream",
     "text": [
      "+-----+-----+--------+--------------------------------------------+-------------------------------------------------+------------------------------------------------+-----------------------------------------------------+------------------------------+------------------------+------------------------------------+-----------------------------+-------------------------------------------------------+------------------+-----------------------------------------------------------+---------------------------------------------------+---------------------------------+\n",
      "|Sl_No|state|district|Recharge_from_Rainfall_during_Monsoon_season|Recharge_From_Other_Sources_during_monsoon_season|Recharge_from_Rainfall_during_non_monsoon_season|Recharge_From_Other_Sources_during_non_monsoon_season|Annual_Replenishable_resources|Annual_Natural_Discharge|Net_Annual_Ground_Water_Availability|Draft_due_to_Irrigation_Needs|Draft_due_to_Domestic_and_Industrial_Water_Supply_Needs|Total_annual_Draft|Projected_demand_for_Domestic_and_Industrial_uses_upto_2025|Ground_Water_Availability_for_Future_Irrigation_use|Stage_of_Ground_Water_Development|\n",
      "+-----+-----+--------+--------------------------------------------+-------------------------------------------------+------------------------------------------------+-----------------------------------------------------+------------------------------+------------------------+------------------------------------+-----------------------------+-------------------------------------------------------+------------------+-----------------------------------------------------------+---------------------------------------------------+---------------------------------+\n",
      "|    0|    0|       0|                                          10|                                               28|                                               9|                                                   28|                             0|                       1|                                   0|                            9|                                                      0|                 0|                                                          9|                                                 10|                                0|\n",
      "+-----+-----+--------+--------------------------------------------+-------------------------------------------------+------------------------------------------------+-----------------------------------------------------+------------------------------+------------------------+------------------------------------+-----------------------------+-------------------------------------------------------+------------------+-----------------------------------------------------------+---------------------------------------------------+---------------------------------+\n",
      "\n"
     ]
    }
   ],
   "source": [
    "from pyspark.sql.functions import isnan, when, count, col\n",
    "df_new.select([count(when(col(c).isNull() , c)).alias(c) for c in df_new.columns]).show()"
   ]
  },
  {
   "cell_type": "code",
   "execution_count": 19,
   "metadata": {
    "scrolled": true
   },
   "outputs": [
    {
     "name": "stdout",
     "output_type": "stream",
     "text": [
      "+-----+-----+--------+--------------------------------------------+-------------------------------------------------+------------------------------------------------+-----------------------------------------------------+------------------------------+------------------------+------------------------------------+-----------------------------+-------------------------------------------------------+------------------+-----------------------------------------------------------+---------------------------------------------------+---------------------------------+\n",
      "|Sl_No|state|district|Recharge_from_Rainfall_during_Monsoon_season|Recharge_From_Other_Sources_during_monsoon_season|Recharge_from_Rainfall_during_non_monsoon_season|Recharge_From_Other_Sources_during_non_monsoon_season|Annual_Replenishable_resources|Annual_Natural_Discharge|Net_Annual_Ground_Water_Availability|Draft_due_to_Irrigation_Needs|Draft_due_to_Domestic_and_Industrial_Water_Supply_Needs|Total_annual_Draft|Projected_demand_for_Domestic_and_Industrial_uses_upto_2025|Ground_Water_Availability_for_Future_Irrigation_use|Stage_of_Ground_Water_Development|\n",
      "+-----+-----+--------+--------------------------------------------+-------------------------------------------------+------------------------------------------------+-----------------------------------------------------+------------------------------+------------------------+------------------------------------+-----------------------------+-------------------------------------------------------+------------------+-----------------------------------------------------------+---------------------------------------------------+---------------------------------+\n",
      "|    0|    0|       0|                                           0|                                                0|                                               0|                                                    0|                             0|                       0|                                   0|                            0|                                                      0|                 0|                                                          0|                                                  0|                                0|\n",
      "+-----+-----+--------+--------------------------------------------+-------------------------------------------------+------------------------------------------------+-----------------------------------------------------+------------------------------+------------------------+------------------------------------+-----------------------------+-------------------------------------------------------+------------------+-----------------------------------------------------------+---------------------------------------------------+---------------------------------+\n",
      "\n"
     ]
    }
   ],
   "source": [
    "from pyspark.sql.functions import isnan, when, count, col\n",
    "df_new.select([count(when(isnan(c)  , c)).alias(c) for c in df_new.columns]).show()\n"
   ]
  },
  {
   "cell_type": "code",
   "execution_count": 20,
   "metadata": {},
   "outputs": [
    {
     "data": {
      "text/plain": [
       "[('Sl_No', 'int'),\n",
       " ('state', 'string'),\n",
       " ('district', 'string'),\n",
       " ('Recharge_from_Rainfall_during_Monsoon_season', 'double'),\n",
       " ('Recharge_From_Other_Sources_during_monsoon_season', 'double'),\n",
       " ('Recharge_from_Rainfall_during_non_monsoon_season', 'double'),\n",
       " ('Recharge_From_Other_Sources_during_non_monsoon_season', 'double'),\n",
       " ('Annual_Replenishable_resources', 'double'),\n",
       " ('Annual_Natural_Discharge', 'double'),\n",
       " ('Net_Annual_Ground_Water_Availability', 'double'),\n",
       " ('Draft_due_to_Irrigation_Needs', 'double'),\n",
       " ('Draft_due_to_Domestic_and_Industrial_Water_Supply_Needs', 'double'),\n",
       " ('Total_annual_Draft', 'double'),\n",
       " ('Projected_demand_for_Domestic_and_Industrial_uses_upto_2025', 'double'),\n",
       " ('Ground_Water_Availability_for_Future_Irrigation_use', 'double'),\n",
       " ('Stage_of_Ground_Water_Development', 'double')]"
      ]
     },
     "execution_count": 20,
     "metadata": {},
     "output_type": "execute_result"
    }
   ],
   "source": [
    "df_new.dtypes"
   ]
  },
  {
   "cell_type": "markdown",
   "metadata": {},
   "source": [
    "### drop duplicate rows"
   ]
  },
  {
   "cell_type": "code",
   "execution_count": 21,
   "metadata": {},
   "outputs": [
    {
     "data": {
      "text/plain": [
       "pyspark.sql.dataframe.DataFrame"
      ]
     },
     "execution_count": 21,
     "metadata": {},
     "output_type": "execute_result"
    }
   ],
   "source": [
    "df_new=df_new.dropDuplicates()\n",
    "type(df_new)"
   ]
  },
  {
   "cell_type": "code",
   "execution_count": 22,
   "metadata": {},
   "outputs": [
    {
     "data": {
      "text/plain": [
       "661"
      ]
     },
     "execution_count": 22,
     "metadata": {},
     "output_type": "execute_result"
    }
   ],
   "source": [
    "df_new.count()"
   ]
  },
  {
   "cell_type": "markdown",
   "metadata": {},
   "source": [
    "### checking count after drop operation"
   ]
  },
  {
   "cell_type": "code",
   "execution_count": 23,
   "metadata": {},
   "outputs": [
    {
     "data": {
      "text/plain": [
       "631"
      ]
     },
     "execution_count": 23,
     "metadata": {},
     "output_type": "execute_result"
    }
   ],
   "source": [
    "df_new.na.drop().count()"
   ]
  },
  {
   "cell_type": "code",
   "execution_count": 24,
   "metadata": {},
   "outputs": [
    {
     "data": {
      "text/plain": [
       "661"
      ]
     },
     "execution_count": 24,
     "metadata": {},
     "output_type": "execute_result"
    }
   ],
   "source": [
    "df_new.na.drop(how=\"all\").count()"
   ]
  },
  {
   "cell_type": "code",
   "execution_count": 25,
   "metadata": {},
   "outputs": [
    {
     "data": {
      "text/plain": [
       "631"
      ]
     },
     "execution_count": 25,
     "metadata": {},
     "output_type": "execute_result"
    }
   ],
   "source": [
    "df_new.na.drop(how=\"any\").count()"
   ]
  },
  {
   "cell_type": "code",
   "execution_count": 26,
   "metadata": {},
   "outputs": [
    {
     "data": {
      "text/plain": [
       "661"
      ]
     },
     "execution_count": 26,
     "metadata": {},
     "output_type": "execute_result"
    }
   ],
   "source": [
    "df_new.na.drop(thresh=2).count()"
   ]
  },
  {
   "cell_type": "code",
   "execution_count": 27,
   "metadata": {},
   "outputs": [
    {
     "data": {
      "text/plain": [
       "651"
      ]
     },
     "execution_count": 27,
     "metadata": {},
     "output_type": "execute_result"
    }
   ],
   "source": [
    "df_new.na.drop(subset=['Recharge_from_Rainfall_during_Monsoon_season']).count()"
   ]
  },
  {
   "cell_type": "markdown",
   "metadata": {},
   "source": [
    "### fill operation"
   ]
  },
  {
   "cell_type": "markdown",
   "metadata": {},
   "source": [
    "#### filling all null values in all the columns with same impute value"
   ]
  },
  {
   "cell_type": "code",
   "execution_count": 28,
   "metadata": {},
   "outputs": [
    {
     "name": "stdout",
     "output_type": "stream",
     "text": [
      "+-----+----------+---------+--------------------------------------------+-------------------------------------------------+------------------------------------------------+-----------------------------------------------------+------------------------------+------------------------+------------------------------------+-----------------------------+-------------------------------------------------------+------------------+-----------------------------------------------------------+---------------------------------------------------+---------------------------------+\n",
      "|Sl_No|     state| district|Recharge_from_Rainfall_during_Monsoon_season|Recharge_From_Other_Sources_during_monsoon_season|Recharge_from_Rainfall_during_non_monsoon_season|Recharge_From_Other_Sources_during_non_monsoon_season|Annual_Replenishable_resources|Annual_Natural_Discharge|Net_Annual_Ground_Water_Availability|Draft_due_to_Irrigation_Needs|Draft_due_to_Domestic_and_Industrial_Water_Supply_Needs|Total_annual_Draft|Projected_demand_for_Domestic_and_Industrial_uses_upto_2025|Ground_Water_Availability_for_Future_Irrigation_use|Stage_of_Ground_Water_Development|\n",
      "+-----+----------+---------+--------------------------------------------+-------------------------------------------------+------------------------------------------------+-----------------------------------------------------+------------------------------+------------------------+------------------------------------+-----------------------------+-------------------------------------------------------+------------------+-----------------------------------------------------------+---------------------------------------------------+---------------------------------+\n",
      "|  652|LAKSADWEEP|  Androth|                                         0.0|                                              0.0|                                             0.0|                                                  0.0|                         192.5|                   130.2|                                62.3|                          0.0|                                                   41.2|              41.2|                                                        0.0|                                                0.0|                             66.0|\n",
      "|  653|LAKSADWEEP|  Chetlat|                                         0.0|                                              0.0|                                             0.0|                                                  0.0|                          41.4|                    27.8|                                13.6|                          0.0|                                                    8.6|               8.6|                                                        0.0|                                                0.0|                             63.0|\n",
      "|  656|LAKSADWEEP|   Kiltan|                                         0.0|                                              0.0|                                             0.0|                                                  0.0|                          64.8|                    43.1|                                21.7|                          0.0|                                                   14.6|              14.6|                                                        0.0|                                                0.0|                             67.0|\n",
      "|  658|LAKSADWEEP|  Minicoy|                                         0.0|                                              0.0|                                             0.0|                                                  0.0|                         185.8|                   121.6|                                64.2|                          0.0|                                                   38.9|              38.9|                                                        0.0|                                                0.0|                             61.0|\n",
      "|  651|LAKSADWEEP|    Amini|                                         0.0|                                              0.0|                                             0.0|                                                  0.0|                         103.0|                    69.0|                                34.1|                          0.0|                                                   28.2|              28.2|                                                        0.0|                                                0.0|                             83.0|\n",
      "|  650|LAKSADWEEP|   Agatti|                                         0.0|                                              0.0|                                             0.0|                                                  0.0|                         107.8|                    72.4|                                35.4|                          0.0|                                                   28.0|              28.0|                                                        0.0|                                                0.0|                             79.0|\n",
      "|  655|LAKSADWEEP|  Kalpeni|                                         0.0|                                              0.0|                                             0.0|                                                  0.0|                          90.7|                    61.0|                                29.7|                          0.0|                                                   16.2|              16.2|                                                        0.0|                                                0.0|                             55.0|\n",
      "|  654|LAKSADWEEP|   Kadmat|                                         0.0|                                              0.0|                                             0.0|                                                  0.0|                         124.1|                    83.4|                                40.7|                          0.0|                                                   19.7|              19.7|                                                        0.0|                                                0.0|                             48.0|\n",
      "|  657|LAKSADWEEP|Kavaratti|                                         0.0|                                              0.0|                                             0.0|                                                  0.0|                         144.4|                    96.0|                                48.4|                          0.0|                                                   41.8|              41.8|                                                        0.0|                                                0.0|                             86.0|\n",
      "+-----+----------+---------+--------------------------------------------+-------------------------------------------------+------------------------------------------------+-----------------------------------------------------+------------------------------+------------------------+------------------------------------+-----------------------------+-------------------------------------------------------+------------------+-----------------------------------------------------------+---------------------------------------------------+---------------------------------+\n",
      "\n"
     ]
    }
   ],
   "source": [
    "df_new.na.fill(0.0).filter(df_new.state=='LAKSADWEEP').show()  #using filter by state laksadweep to check the change"
   ]
  },
  {
   "cell_type": "markdown",
   "metadata": {},
   "source": [
    "#### imputing same default value in mutliple columns at a time"
   ]
  },
  {
   "cell_type": "code",
   "execution_count": 29,
   "metadata": {},
   "outputs": [
    {
     "name": "stdout",
     "output_type": "stream",
     "text": [
      "+-----+----------+---------+--------------------------------------------+-------------------------------------------------+------------------------------------------------+-----------------------------------------------------+------------------------------+------------------------+------------------------------------+-----------------------------+-------------------------------------------------------+------------------+-----------------------------------------------------------+---------------------------------------------------+---------------------------------+\n",
      "|Sl_No|     state| district|Recharge_from_Rainfall_during_Monsoon_season|Recharge_From_Other_Sources_during_monsoon_season|Recharge_from_Rainfall_during_non_monsoon_season|Recharge_From_Other_Sources_during_non_monsoon_season|Annual_Replenishable_resources|Annual_Natural_Discharge|Net_Annual_Ground_Water_Availability|Draft_due_to_Irrigation_Needs|Draft_due_to_Domestic_and_Industrial_Water_Supply_Needs|Total_annual_Draft|Projected_demand_for_Domestic_and_Industrial_uses_upto_2025|Ground_Water_Availability_for_Future_Irrigation_use|Stage_of_Ground_Water_Development|\n",
      "+-----+----------+---------+--------------------------------------------+-------------------------------------------------+------------------------------------------------+-----------------------------------------------------+------------------------------+------------------------+------------------------------------+-----------------------------+-------------------------------------------------------+------------------+-----------------------------------------------------------+---------------------------------------------------+---------------------------------+\n",
      "|  652|LAKSADWEEP|  Androth|                                        null|                                             null|                                            null|                                                 null|                         192.5|                   130.2|                                62.3|                         null|                                                   41.2|              41.2|                                                     333.33|                                             333.33|                             66.0|\n",
      "|  653|LAKSADWEEP|  Chetlat|                                        null|                                             null|                                            null|                                                 null|                          41.4|                    27.8|                                13.6|                         null|                                                    8.6|               8.6|                                                     333.33|                                             333.33|                             63.0|\n",
      "|  656|LAKSADWEEP|   Kiltan|                                        null|                                             null|                                            null|                                                 null|                          64.8|                    43.1|                                21.7|                         null|                                                   14.6|              14.6|                                                     333.33|                                             333.33|                             67.0|\n",
      "|  658|LAKSADWEEP|  Minicoy|                                        null|                                             null|                                            null|                                                 null|                         185.8|                   121.6|                                64.2|                         null|                                                   38.9|              38.9|                                                     333.33|                                             333.33|                             61.0|\n",
      "|  651|LAKSADWEEP|    Amini|                                        null|                                             null|                                            null|                                                 null|                         103.0|                    69.0|                                34.1|                         null|                                                   28.2|              28.2|                                                     333.33|                                             333.33|                             83.0|\n",
      "|  650|LAKSADWEEP|   Agatti|                                        null|                                             null|                                            null|                                                 null|                         107.8|                    72.4|                                35.4|                         null|                                                   28.0|              28.0|                                                     333.33|                                             333.33|                             79.0|\n",
      "|  655|LAKSADWEEP|  Kalpeni|                                        null|                                             null|                                            null|                                                 null|                          90.7|                    61.0|                                29.7|                         null|                                                   16.2|              16.2|                                                     333.33|                                             333.33|                             55.0|\n",
      "|  654|LAKSADWEEP|   Kadmat|                                        null|                                             null|                                            null|                                                 null|                         124.1|                    83.4|                                40.7|                         null|                                                   19.7|              19.7|                                                     333.33|                                             333.33|                             48.0|\n",
      "|  657|LAKSADWEEP|Kavaratti|                                        null|                                             null|                                            null|                                                 null|                         144.4|                    96.0|                                48.4|                         null|                                                   41.8|              41.8|                                                     333.33|                                             333.33|                             86.0|\n",
      "+-----+----------+---------+--------------------------------------------+-------------------------------------------------+------------------------------------------------+-----------------------------------------------------+------------------------------+------------------------+------------------------------------+-----------------------------+-------------------------------------------------------+------------------+-----------------------------------------------------------+---------------------------------------------------+---------------------------------+\n",
      "\n"
     ]
    }
   ],
   "source": [
    "df_new.na.fill(333.33,subset=['Ground_Water_Availability_for_Future_Irrigation_use','Projected_demand_for_Domestic_and_Industrial_uses_upto_2025']).filter(df_new.state=='LAKSADWEEP').show()"
   ]
  },
  {
   "cell_type": "markdown",
   "metadata": {},
   "source": [
    "#### imputing multiple columns with different values at a time"
   ]
  },
  {
   "cell_type": "code",
   "execution_count": 30,
   "metadata": {},
   "outputs": [
    {
     "name": "stdout",
     "output_type": "stream",
     "text": [
      "+-----+----------+---------+--------------------------------------------+-------------------------------------------------+------------------------------------------------+-----------------------------------------------------+------------------------------+------------------------+------------------------------------+-----------------------------+-------------------------------------------------------+------------------+-----------------------------------------------------------+---------------------------------------------------+---------------------------------+\n",
      "|Sl_No|     state| district|Recharge_from_Rainfall_during_Monsoon_season|Recharge_From_Other_Sources_during_monsoon_season|Recharge_from_Rainfall_during_non_monsoon_season|Recharge_From_Other_Sources_during_non_monsoon_season|Annual_Replenishable_resources|Annual_Natural_Discharge|Net_Annual_Ground_Water_Availability|Draft_due_to_Irrigation_Needs|Draft_due_to_Domestic_and_Industrial_Water_Supply_Needs|Total_annual_Draft|Projected_demand_for_Domestic_and_Industrial_uses_upto_2025|Ground_Water_Availability_for_Future_Irrigation_use|Stage_of_Ground_Water_Development|\n",
      "+-----+----------+---------+--------------------------------------------+-------------------------------------------------+------------------------------------------------+-----------------------------------------------------+------------------------------+------------------------+------------------------------------+-----------------------------+-------------------------------------------------------+------------------+-----------------------------------------------------------+---------------------------------------------------+---------------------------------+\n",
      "|  652|LAKSADWEEP|  Androth|                                        null|                                           1110.0|                                            null|                                               2220.0|                         192.5|                   130.2|                                62.3|                         null|                                                   41.2|              41.2|                                                       null|                                               null|                             66.0|\n",
      "|  653|LAKSADWEEP|  Chetlat|                                        null|                                           1110.0|                                            null|                                               2220.0|                          41.4|                    27.8|                                13.6|                         null|                                                    8.6|               8.6|                                                       null|                                               null|                             63.0|\n",
      "|  656|LAKSADWEEP|   Kiltan|                                        null|                                           1110.0|                                            null|                                               2220.0|                          64.8|                    43.1|                                21.7|                         null|                                                   14.6|              14.6|                                                       null|                                               null|                             67.0|\n",
      "|  658|LAKSADWEEP|  Minicoy|                                        null|                                           1110.0|                                            null|                                               2220.0|                         185.8|                   121.6|                                64.2|                         null|                                                   38.9|              38.9|                                                       null|                                               null|                             61.0|\n",
      "|  651|LAKSADWEEP|    Amini|                                        null|                                           1110.0|                                            null|                                               2220.0|                         103.0|                    69.0|                                34.1|                         null|                                                   28.2|              28.2|                                                       null|                                               null|                             83.0|\n",
      "|  650|LAKSADWEEP|   Agatti|                                        null|                                           1110.0|                                            null|                                               2220.0|                         107.8|                    72.4|                                35.4|                         null|                                                   28.0|              28.0|                                                       null|                                               null|                             79.0|\n",
      "|  655|LAKSADWEEP|  Kalpeni|                                        null|                                           1110.0|                                            null|                                               2220.0|                          90.7|                    61.0|                                29.7|                         null|                                                   16.2|              16.2|                                                       null|                                               null|                             55.0|\n",
      "|  654|LAKSADWEEP|   Kadmat|                                        null|                                           1110.0|                                            null|                                               2220.0|                         124.1|                    83.4|                                40.7|                         null|                                                   19.7|              19.7|                                                       null|                                               null|                             48.0|\n",
      "|  657|LAKSADWEEP|Kavaratti|                                        null|                                           1110.0|                                            null|                                               2220.0|                         144.4|                    96.0|                                48.4|                         null|                                                   41.8|              41.8|                                                       null|                                               null|                             86.0|\n",
      "+-----+----------+---------+--------------------------------------------+-------------------------------------------------+------------------------------------------------+-----------------------------------------------------+------------------------------+------------------------+------------------------------------+-----------------------------+-------------------------------------------------------+------------------+-----------------------------------------------------------+---------------------------------------------------+---------------------------------+\n",
      "\n"
     ]
    }
   ],
   "source": [
    "df_new.na.fill({'Recharge_From_Other_Sources_during_monsoon_season':01110.0,'Recharge_From_Other_Sources_during_non_monsoon_season':02220.0}).filter(df_new.state=='LAKSADWEEP').show()"
   ]
  },
  {
   "cell_type": "markdown",
   "metadata": {},
   "source": [
    "#### imputing a column with its mean value"
   ]
  },
  {
   "cell_type": "code",
   "execution_count": 31,
   "metadata": {},
   "outputs": [
    {
     "name": "stdout",
     "output_type": "stream",
     "text": [
      "+-----+-------+-----------+--------------------------------------------+-------------------------------------------------+------------------------------------------------+-----------------------------------------------------+------------------------------+------------------------+------------------------------------+-----------------------------+-------------------------------------------------------+------------------+-----------------------------------------------------------+---------------------------------------------------+---------------------------------+\n",
      "|Sl_No|  state|   district|Recharge_from_Rainfall_during_Monsoon_season|Recharge_From_Other_Sources_during_monsoon_season|Recharge_from_Rainfall_during_non_monsoon_season|Recharge_From_Other_Sources_during_non_monsoon_season|Annual_Replenishable_resources|Annual_Natural_Discharge|Net_Annual_Ground_Water_Availability|Draft_due_to_Irrigation_Needs|Draft_due_to_Domestic_and_Industrial_Water_Supply_Needs|Total_annual_Draft|Projected_demand_for_Domestic_and_Industrial_uses_upto_2025|Ground_Water_Availability_for_Future_Irrigation_use|Stage_of_Ground_Water_Development|\n",
      "+-----+-------+-----------+--------------------------------------------+-------------------------------------------------+------------------------------------------------+-----------------------------------------------------+------------------------------+------------------------+------------------------------------+-----------------------------+-------------------------------------------------------+------------------+-----------------------------------------------------------+---------------------------------------------------+---------------------------------+\n",
      "|  401|MIZORAM|  Champhai |                                      624.55|                               11389.723579778833|                                           261.5|                                                 null|                        886.05|                    88.6|                              797.44|                          0.0|                                                  17.49|             17.49|                                                      32.92|                                             764.52|                             2.19|\n",
      "|  408|MIZORAM|     Kohima|                                     11240.0|                               11389.723579778833|                                          5531.0|                                                 null|                       16770.0|                  1677.0|                             15093.0|                          0.0|                                                 489.53|            489.53|                                                     134.59|                                           14959.41|                              3.2|\n",
      "|  405|MIZORAM|     Mamit |                                      291.93|                               11389.723579778833|                                          116.41|                                                 null|                        408.33|                   40.83|                               367.5|                          0.0|                                                   5.17|              5.17|                                                      23.17|                                             344.33|                             1.41|\n",
      "|  400|MIZORAM|    Aizawl |                                      347.28|                               11389.723579778833|                                          154.13|                                                 null|                        501.42|                   50.14|                              451.27|                          0.0|                                                  22.99|             22.99|                                                      56.16|                                             395.11|                             5.09|\n",
      "|  413|MIZORAM|      Wokha|                                     12769.0|                               11389.723579778833|                                          6283.0|                                                 null|                       19052.0|                  1905.0|                             17147.0|                          0.0|                                                 250.52|            250.52|                                                      52.57|                                           17094.43|                              1.5|\n",
      "|  402|MIZORAM|   Kolasib |                                      391.15|                               11389.723579778833|                                          134.37|                                                 null|                        525.53|                   52.55|                              472.98|                          0.0|                                                   8.69|              8.69|                                                       22.1|                                             450.88|                             1.84|\n",
      "|  409|MIZORAM|    Dimapur|                                      7812.0|                               11389.723579778833|                                          3844.0|                                                 null|                       11655.0|                  1166.0|                             10490.0|                          0.0|                                                1043.76|           1043.76|                                                     723.06|                                            9766.94|                             10.0|\n",
      "|  407|MIZORAM|   Serchipp|                                      199.35|                               11389.723579778833|                                           76.89|                                                 null|                        276.24|                   27.62|                              248.62|                          0.0|                                                   11.0|              11.0|                                                       17.1|                                             231.52|                             4.42|\n",
      "|  411|MIZORAM| Mokokchung|                                     12525.0|                               11389.723579778833|                                          6163.0|                                                 null|                       18689.0|                  1869.0|                             16820.0|                          0.0|                                                 239.94|            239.94|                                                      38.04|                                           16780.96|                              1.4|\n",
      "|  403|MIZORAM|Lawngtalai |                                      538.24|                               11389.723579778833|                                          154.41|                                                 null|                        692.65|                   69.27|                              623.39|                          0.0|                                                   9.41|              9.41|                                                      31.61|                                             591.76|                             1.51|\n",
      "|  410|MIZORAM|       Phek|                                     16693.0|                               11389.723579778833|                                          8214.0|                                                 null|                       24907.0|                  2491.0|                             22416.0|                          0.0|                                                 264.05|            264.05|                                                      61.14|                                           22354.86|                              1.2|\n",
      "|  412|MIZORAM|  Zunheboto|                                      9402.0|                               11389.723579778833|                                          4626.0|                                                 null|                       14028.0|                  1403.0|                             12625.0|                          0.0|                                                 188.14|            188.14|                                                       33.4|                                            12591.6|                              1.5|\n",
      "|  404|MIZORAM|    Lunglei|                                      256.85|                               11389.723579778833|                                           77.75|                                                 null|                         334.6|                   33.46|                              301.14|                          0.0|                                                  25.74|             25.74|                                                      40.24|                                              260.9|                             8.55|\n",
      "|  406|MIZORAM|      Saiha|                                      250.39|                               11389.723579778833|                                           67.07|                                                 null|                        317.45|                   31.75|                              285.71|                          0.0|                                                   3.41|              3.41|                                                      14.87|                                             270.84|                             1.19|\n",
      "+-----+-------+-----------+--------------------------------------------+-------------------------------------------------+------------------------------------------------+-----------------------------------------------------+------------------------------+------------------------+------------------------------------+-----------------------------+-------------------------------------------------------+------------------+-----------------------------------------------------------+---------------------------------------------------+---------------------------------+\n",
      "\n"
     ]
    }
   ],
   "source": [
    "from pyspark.sql.functions import *\n",
    "df_new.na.fill(df_new.select(mean(df_new.Recharge_From_Other_Sources_during_monsoon_season)).collect()[0][0],subset=['Recharge_From_Other_Sources_during_monsoon_season']).filter(df_new.state=='MIZORAM').show()\n",
    "#filtering data to check effect of imputation"
   ]
  },
  {
   "cell_type": "markdown",
   "metadata": {},
   "source": [
    "#### unless we assign to a variable the above changes are not stored"
   ]
  },
  {
   "cell_type": "code",
   "execution_count": 32,
   "metadata": {},
   "outputs": [
    {
     "name": "stdout",
     "output_type": "stream",
     "text": [
      "+-----+-----+--------+--------------------------------------------+-------------------------------------------------+------------------------------------------------+-----------------------------------------------------+------------------------------+------------------------+------------------------------------+-----------------------------+-------------------------------------------------------+------------------+-----------------------------------------------------------+---------------------------------------------------+---------------------------------+\n",
      "|Sl_No|state|district|Recharge_from_Rainfall_during_Monsoon_season|Recharge_From_Other_Sources_during_monsoon_season|Recharge_from_Rainfall_during_non_monsoon_season|Recharge_From_Other_Sources_during_non_monsoon_season|Annual_Replenishable_resources|Annual_Natural_Discharge|Net_Annual_Ground_Water_Availability|Draft_due_to_Irrigation_Needs|Draft_due_to_Domestic_and_Industrial_Water_Supply_Needs|Total_annual_Draft|Projected_demand_for_Domestic_and_Industrial_uses_upto_2025|Ground_Water_Availability_for_Future_Irrigation_use|Stage_of_Ground_Water_Development|\n",
      "+-----+-----+--------+--------------------------------------------+-------------------------------------------------+------------------------------------------------+-----------------------------------------------------+------------------------------+------------------------+------------------------------------+-----------------------------+-------------------------------------------------------+------------------+-----------------------------------------------------------+---------------------------------------------------+---------------------------------+\n",
      "|    0|    0|       0|                                          10|                                               28|                                               9|                                                   28|                             0|                       1|                                   0|                            9|                                                      0|                 0|                                                          9|                                                 10|                                0|\n",
      "+-----+-----+--------+--------------------------------------------+-------------------------------------------------+------------------------------------------------+-----------------------------------------------------+------------------------------+------------------------+------------------------------------+-----------------------------+-------------------------------------------------------+------------------+-----------------------------------------------------------+---------------------------------------------------+---------------------------------+\n",
      "\n"
     ]
    }
   ],
   "source": [
    "df_new.select([count(when(col(c).isNull(),c)).alias(c) for c in df_new.columns]).show()"
   ]
  },
  {
   "cell_type": "markdown",
   "metadata": {},
   "source": [
    "### sorting column data in desc order"
   ]
  },
  {
   "cell_type": "code",
   "execution_count": 33,
   "metadata": {},
   "outputs": [
    {
     "name": "stdout",
     "output_type": "stream",
     "text": [
      "+-------------------------------------------------+\n",
      "|Recharge_From_Other_Sources_during_monsoon_season|\n",
      "+-------------------------------------------------+\n",
      "|                                         128976.0|\n",
      "|                                         107177.0|\n",
      "|                                         105098.0|\n",
      "|                                         102020.0|\n",
      "|                                         101830.0|\n",
      "|                                         97858.36|\n",
      "|                                          88156.0|\n",
      "|                                          87490.0|\n",
      "|                                          84416.0|\n",
      "|                                          83241.0|\n",
      "|                                         76991.16|\n",
      "|                                         73856.89|\n",
      "|                                          73150.0|\n",
      "|                                         68840.05|\n",
      "|                                         65301.46|\n",
      "|                                          63805.0|\n",
      "|                                          63644.0|\n",
      "|                                         60450.45|\n",
      "|                                         60379.13|\n",
      "|                                         58564.75|\n",
      "+-------------------------------------------------+\n",
      "only showing top 20 rows\n",
      "\n"
     ]
    }
   ],
   "source": [
    "#df_new.select('Recharge_From_Other_Sources_during_monsoon_season').show()\n",
    "#show elements of a column by sorting in desc order\n",
    "df_new.select('Recharge_From_Other_Sources_during_monsoon_season').sort(df_new.Recharge_From_Other_Sources_during_monsoon_season.desc()).show()"
   ]
  },
  {
   "cell_type": "code",
   "execution_count": 34,
   "metadata": {},
   "outputs": [
    {
     "data": {
      "text/plain": [
       "pyspark.sql.dataframe.DataFrame"
      ]
     },
     "execution_count": 34,
     "metadata": {},
     "output_type": "execute_result"
    }
   ],
   "source": [
    "type(df_new)"
   ]
  },
  {
   "cell_type": "markdown",
   "metadata": {},
   "source": [
    "### getting the list of column except one column"
   ]
  },
  {
   "cell_type": "code",
   "execution_count": 35,
   "metadata": {},
   "outputs": [
    {
     "data": {
      "text/plain": [
       "[Column<b'state'>,\n",
       " Column<b'district'>,\n",
       " Column<b'Recharge_from_Rainfall_during_Monsoon_season'>,\n",
       " Column<b'Recharge_From_Other_Sources_during_monsoon_season'>,\n",
       " Column<b'Recharge_from_Rainfall_during_non_monsoon_season'>,\n",
       " Column<b'Recharge_From_Other_Sources_during_non_monsoon_season'>,\n",
       " Column<b'Annual_Replenishable_resources'>,\n",
       " Column<b'Annual_Natural_Discharge'>,\n",
       " Column<b'Net_Annual_Ground_Water_Availability'>,\n",
       " Column<b'Draft_due_to_Irrigation_Needs'>,\n",
       " Column<b'Draft_due_to_Domestic_and_Industrial_Water_Supply_Needs'>,\n",
       " Column<b'Total_annual_Draft'>,\n",
       " Column<b'Projected_demand_for_Domestic_and_Industrial_uses_upto_2025'>,\n",
       " Column<b'Ground_Water_Availability_for_Future_Irrigation_use'>,\n",
       " Column<b'Stage_of_Ground_Water_Development'>]"
      ]
     },
     "execution_count": 35,
     "metadata": {},
     "output_type": "execute_result"
    }
   ],
   "source": [
    "cols=list(col(c) for c in df_new.columns if c!='Sl_No')\n",
    "cols"
   ]
  },
  {
   "cell_type": "code",
   "execution_count": 36,
   "metadata": {},
   "outputs": [
    {
     "data": {
      "text/plain": [
       "list"
      ]
     },
     "execution_count": 36,
     "metadata": {},
     "output_type": "execute_result"
    }
   ],
   "source": [
    "type(cols)"
   ]
  },
  {
   "cell_type": "markdown",
   "metadata": {},
   "source": [
    "### fetching set of column names based on column position"
   ]
  },
  {
   "cell_type": "code",
   "execution_count": 39,
   "metadata": {},
   "outputs": [
    {
     "data": {
      "text/plain": [
       "['Recharge_from_Rainfall_during_Monsoon_season',\n",
       " 'Recharge_From_Other_Sources_during_monsoon_season',\n",
       " 'Recharge_from_Rainfall_during_non_monsoon_season',\n",
       " 'Recharge_From_Other_Sources_during_non_monsoon_season',\n",
       " 'Annual_Replenishable_resources',\n",
       " 'Annual_Natural_Discharge',\n",
       " 'Net_Annual_Ground_Water_Availability',\n",
       " 'Draft_due_to_Irrigation_Needs',\n",
       " 'Draft_due_to_Domestic_and_Industrial_Water_Supply_Needs',\n",
       " 'Total_annual_Draft',\n",
       " 'Projected_demand_for_Domestic_and_Industrial_uses_upto_2025',\n",
       " 'Ground_Water_Availability_for_Future_Irrigation_use',\n",
       " 'Stage_of_Ground_Water_Development']"
      ]
     },
     "execution_count": 39,
     "metadata": {},
     "output_type": "execute_result"
    }
   ],
   "source": [
    "cols=df_new.columns[3:16]\n",
    "cols"
   ]
  },
  {
   "cell_type": "code",
   "execution_count": 40,
   "metadata": {},
   "outputs": [
    {
     "data": {
      "text/plain": [
       "list"
      ]
     },
     "execution_count": 40,
     "metadata": {},
     "output_type": "execute_result"
    }
   ],
   "source": [
    "type(cols)"
   ]
  },
  {
   "cell_type": "code",
   "execution_count": 41,
   "metadata": {},
   "outputs": [
    {
     "data": {
      "text/plain": [
       "13"
      ]
     },
     "execution_count": 41,
     "metadata": {},
     "output_type": "execute_result"
    }
   ],
   "source": [
    "len(cols)"
   ]
  },
  {
   "cell_type": "code",
   "execution_count": 42,
   "metadata": {},
   "outputs": [
    {
     "data": {
      "text/plain": [
       "[('Sl_No', 'int'),\n",
       " ('state', 'string'),\n",
       " ('district', 'string'),\n",
       " ('Recharge_from_Rainfall_during_Monsoon_season', 'double'),\n",
       " ('Recharge_From_Other_Sources_during_monsoon_season', 'double'),\n",
       " ('Recharge_from_Rainfall_during_non_monsoon_season', 'double'),\n",
       " ('Recharge_From_Other_Sources_during_non_monsoon_season', 'double'),\n",
       " ('Annual_Replenishable_resources', 'double'),\n",
       " ('Annual_Natural_Discharge', 'double'),\n",
       " ('Net_Annual_Ground_Water_Availability', 'double'),\n",
       " ('Draft_due_to_Irrigation_Needs', 'double'),\n",
       " ('Draft_due_to_Domestic_and_Industrial_Water_Supply_Needs', 'double'),\n",
       " ('Total_annual_Draft', 'double'),\n",
       " ('Projected_demand_for_Domestic_and_Industrial_uses_upto_2025', 'double'),\n",
       " ('Ground_Water_Availability_for_Future_Irrigation_use', 'double'),\n",
       " ('Stage_of_Ground_Water_Development', 'double')]"
      ]
     },
     "execution_count": 42,
     "metadata": {},
     "output_type": "execute_result"
    }
   ],
   "source": [
    "df_new.dtypes"
   ]
  },
  {
   "cell_type": "markdown",
   "metadata": {},
   "source": [
    "### handling missing values in multiple columns with same default value using loop"
   ]
  },
  {
   "cell_type": "code",
   "execution_count": 43,
   "metadata": {},
   "outputs": [
    {
     "name": "stdout",
     "output_type": "stream",
     "text": [
      "+--------------------------------------------+\n",
      "|Recharge_from_Rainfall_during_Monsoon_season|\n",
      "+--------------------------------------------+\n",
      "|                                     16114.0|\n",
      "|                                    72003.21|\n",
      "|                                     45227.0|\n",
      "|                                     17088.0|\n",
      "|                                    95601.25|\n",
      "|                                     43509.0|\n",
      "|                                    59265.54|\n",
      "|                                    49259.82|\n",
      "|                                      196.25|\n",
      "|                                    34805.98|\n",
      "|                                    92009.77|\n",
      "|                                   101730.03|\n",
      "|                                    31628.47|\n",
      "|                                    18866.13|\n",
      "|                                    45186.57|\n",
      "|                                    30034.94|\n",
      "|                                    34067.44|\n",
      "|                                       32.42|\n",
      "|                                     14503.0|\n",
      "|                                    1211.862|\n",
      "+--------------------------------------------+\n",
      "only showing top 20 rows\n",
      "\n",
      "+-------------------------------------------------+\n",
      "|Recharge_From_Other_Sources_during_monsoon_season|\n",
      "+-------------------------------------------------+\n",
      "|                                          22791.0|\n",
      "|                                          1475.54|\n",
      "|                                           6413.0|\n",
      "|                                           3826.0|\n",
      "|                                         14619.56|\n",
      "|                                          88156.0|\n",
      "|                                           236.48|\n",
      "|                                          2849.13|\n",
      "|                                             8.75|\n",
      "|                                          1513.12|\n",
      "|                                         13448.21|\n",
      "|                                          4723.36|\n",
      "|                                          1092.42|\n",
      "|                                         11874.79|\n",
      "|                                           261.17|\n",
      "|                                            92.52|\n",
      "|                                          7290.49|\n",
      "|                                             1.18|\n",
      "|                                           4129.0|\n",
      "|                                           1560.0|\n",
      "+-------------------------------------------------+\n",
      "only showing top 20 rows\n",
      "\n",
      "+------------------------------------------------+\n",
      "|Recharge_from_Rainfall_during_non_monsoon_season|\n",
      "+------------------------------------------------+\n",
      "|                                          5204.0|\n",
      "|                                         3608.77|\n",
      "|                                         16379.0|\n",
      "|                                          6236.0|\n",
      "|                                        25412.14|\n",
      "|                                          9210.0|\n",
      "|                                         7158.85|\n",
      "|                                             0.0|\n",
      "|                                           26.48|\n",
      "|                                             0.0|\n",
      "|                                        10670.68|\n",
      "|                                             0.0|\n",
      "|                                             0.0|\n",
      "|                                         5051.48|\n",
      "|                                         5641.14|\n",
      "|                                         1427.38|\n",
      "|                                             0.0|\n",
      "|                                            5.73|\n",
      "|                                          3513.0|\n",
      "|                                          734.95|\n",
      "+------------------------------------------------+\n",
      "only showing top 20 rows\n",
      "\n",
      "+-----------------------------------------------------+\n",
      "|Recharge_From_Other_Sources_during_non_monsoon_season|\n",
      "+-----------------------------------------------------+\n",
      "|                                              15342.0|\n",
      "|                                              4878.39|\n",
      "|                                               1054.0|\n",
      "|                                               2584.0|\n",
      "|                                             52791.67|\n",
      "|                                              29245.0|\n",
      "|                                               986.92|\n",
      "|                                              9820.81|\n",
      "|                                                99.82|\n",
      "|                                              4919.05|\n",
      "|                                              7380.68|\n",
      "|                                              5966.47|\n",
      "|                                              3149.59|\n",
      "|                                              3568.81|\n",
      "|                                              1202.33|\n",
      "|                                               346.81|\n",
      "|                                              9808.71|\n",
      "|                                                75.89|\n",
      "|                                              12250.0|\n",
      "|                                              2266.35|\n",
      "+-----------------------------------------------------+\n",
      "only showing top 20 rows\n",
      "\n",
      "+------------------------------+\n",
      "|Annual_Replenishable_resources|\n",
      "+------------------------------+\n",
      "|                       59450.0|\n",
      "|                      81965.91|\n",
      "|                       69073.0|\n",
      "|                       29733.0|\n",
      "|                     188424.63|\n",
      "|                      170120.0|\n",
      "|                      67647.79|\n",
      "|                      61929.76|\n",
      "|                         331.3|\n",
      "|                      41238.16|\n",
      "|                     123509.34|\n",
      "|                     112419.86|\n",
      "|                      35870.48|\n",
      "|                       39361.2|\n",
      "|                      52291.21|\n",
      "|                      31901.65|\n",
      "|                      51166.64|\n",
      "|                        115.22|\n",
      "|                       34395.0|\n",
      "|                       5773.16|\n",
      "+------------------------------+\n",
      "only showing top 20 rows\n",
      "\n",
      "+------------------------+\n",
      "|Annual_Natural_Discharge|\n",
      "+------------------------+\n",
      "|                  5943.0|\n",
      "|                 4098.17|\n",
      "|                  6907.0|\n",
      "|                  5901.0|\n",
      "|                 9930.86|\n",
      "|                 17012.0|\n",
      "|                 3380.31|\n",
      "|                 3096.49|\n",
      "|                   33.13|\n",
      "|                 3352.84|\n",
      "|                11858.02|\n",
      "|                 5620.99|\n",
      "|                 3462.12|\n",
      "|                 3936.12|\n",
      "|                 2614.57|\n",
      "|                 2963.32|\n",
      "|                 2558.33|\n",
      "|                   11.52|\n",
      "|                  3433.0|\n",
      "|                  195.97|\n",
      "+------------------------+\n",
      "only showing top 20 rows\n",
      "\n",
      "+------------------------------------+\n",
      "|Net_Annual_Ground_Water_Availability|\n",
      "+------------------------------------+\n",
      "|                             53507.0|\n",
      "|                            77867.74|\n",
      "|                             62166.0|\n",
      "|                             23832.0|\n",
      "|                           178493.77|\n",
      "|                            153108.0|\n",
      "|                            64267.48|\n",
      "|                            58833.27|\n",
      "|                              298.17|\n",
      "|                            37885.32|\n",
      "|                           111651.32|\n",
      "|                           106798.86|\n",
      "|                            32408.36|\n",
      "|                            35425.08|\n",
      "|                            49676.64|\n",
      "|                            28938.33|\n",
      "|                            48608.31|\n",
      "|                               103.7|\n",
      "|                             30962.0|\n",
      "|                             5577.19|\n",
      "+------------------------------------+\n",
      "only showing top 20 rows\n",
      "\n",
      "+-----------------------------+\n",
      "|Draft_due_to_Irrigation_Needs|\n",
      "+-----------------------------+\n",
      "|                     114114.0|\n",
      "|                     20440.37|\n",
      "|                      16107.0|\n",
      "|                      12087.0|\n",
      "|                    133519.33|\n",
      "|                     285530.0|\n",
      "|                      2420.92|\n",
      "|                     57711.43|\n",
      "|                         40.7|\n",
      "|                     38764.21|\n",
      "|                      19959.3|\n",
      "|                     10401.36|\n",
      "|                     42186.98|\n",
      "|                      38331.3|\n",
      "|                      5751.59|\n",
      "|                      1651.38|\n",
      "|                     35106.33|\n",
      "|                        52.84|\n",
      "|                      27175.0|\n",
      "|                          7.5|\n",
      "+-----------------------------+\n",
      "only showing top 20 rows\n",
      "\n"
     ]
    },
    {
     "name": "stdout",
     "output_type": "stream",
     "text": [
      "+-------------------------------------------------------+\n",
      "|Draft_due_to_Domestic_and_Industrial_Water_Supply_Needs|\n",
      "+-------------------------------------------------------+\n",
      "|                                                 6573.0|\n",
      "|                                                3210.04|\n",
      "|                                                 2080.0|\n",
      "|                                                 2685.0|\n",
      "|                                                 4833.4|\n",
      "|                                                 4332.0|\n",
      "|                                                2107.21|\n",
      "|                                                2090.06|\n",
      "|                                                 217.18|\n",
      "|                                                8178.26|\n",
      "|                                                6399.64|\n",
      "|                                                8332.02|\n",
      "|                                                5217.52|\n",
      "|                                                2158.18|\n",
      "|                                                1470.87|\n",
      "|                                                1859.83|\n",
      "|                                               10124.09|\n",
      "|                                                  45.49|\n",
      "|                                                 1164.0|\n",
      "|                                                 2442.5|\n",
      "+-------------------------------------------------------+\n",
      "only showing top 20 rows\n",
      "\n",
      "+------------------+\n",
      "|Total_annual_Draft|\n",
      "+------------------+\n",
      "|          120687.0|\n",
      "|          23650.41|\n",
      "|           18187.0|\n",
      "|           14772.0|\n",
      "|         138352.73|\n",
      "|          289862.0|\n",
      "|           4528.13|\n",
      "|          59801.49|\n",
      "|            257.88|\n",
      "|          46942.47|\n",
      "|          26358.94|\n",
      "|          18733.38|\n",
      "|           47404.5|\n",
      "|          40489.48|\n",
      "|           7222.46|\n",
      "|            3511.2|\n",
      "|          45230.42|\n",
      "|             98.33|\n",
      "|           28339.0|\n",
      "|            2450.0|\n",
      "+------------------+\n",
      "only showing top 20 rows\n",
      "\n",
      "+-----------------------------------------------------------+\n",
      "|Projected_demand_for_Domestic_and_Industrial_uses_upto_2025|\n",
      "+-----------------------------------------------------------+\n",
      "|                                                     8238.0|\n",
      "|                                                    9115.39|\n",
      "|                                                     2794.0|\n",
      "|                                                     4649.0|\n",
      "|                                                    8745.35|\n",
      "|                                                     6381.0|\n",
      "|                                                     5283.0|\n",
      "|                                                    2336.24|\n",
      "|                                                     217.18|\n",
      "|                                                    8182.55|\n",
      "|                                                     1741.0|\n",
      "|                                                   16664.04|\n",
      "|                                                    5337.46|\n",
      "|                                                    2455.17|\n",
      "|                                                    1814.55|\n",
      "|                                                      786.0|\n",
      "|                                                   11497.15|\n",
      "|                                                      45.48|\n",
      "|                                                     2068.0|\n",
      "|                                                    2810.76|\n",
      "+-----------------------------------------------------------+\n",
      "only showing top 20 rows\n",
      "\n",
      "+---------------------------------------------------+\n",
      "|Ground_Water_Availability_for_Future_Irrigation_use|\n",
      "+---------------------------------------------------+\n",
      "|                                           -68845.0|\n",
      "|                                           48311.98|\n",
      "|                                            43265.0|\n",
      "|                                             7096.0|\n",
      "|                                           43606.01|\n",
      "|                                          -138803.0|\n",
      "|                                           56563.56|\n",
      "|                                            -1214.4|\n",
      "|                                              40.29|\n",
      "|                                             358.75|\n",
      "|                                           89951.02|\n",
      "|                                           79733.46|\n",
      "|                                             857.82|\n",
      "|                                           -5361.39|\n",
      "|                                            42110.5|\n",
      "|                                           26500.95|\n",
      "|                                            4485.36|\n",
      "|                                               5.38|\n",
      "|                                             1719.0|\n",
      "|                                            2758.93|\n",
      "+---------------------------------------------------+\n",
      "only showing top 20 rows\n",
      "\n",
      "+---------------------------------+\n",
      "|Stage_of_Ground_Water_Development|\n",
      "+---------------------------------+\n",
      "|                            226.0|\n",
      "|                             30.0|\n",
      "|                             29.0|\n",
      "|                             62.0|\n",
      "|                             78.0|\n",
      "|                            189.0|\n",
      "|                              7.0|\n",
      "|                            102.0|\n",
      "|                             86.0|\n",
      "|                            124.0|\n",
      "|                            23.61|\n",
      "|                             18.0|\n",
      "|                            146.0|\n",
      "|                            114.0|\n",
      "|                             15.0|\n",
      "|                             12.0|\n",
      "|                             93.0|\n",
      "|                             95.0|\n",
      "|                             92.0|\n",
      "|                             44.0|\n",
      "+---------------------------------+\n",
      "only showing top 20 rows\n",
      "\n"
     ]
    }
   ],
   "source": [
    "for i in cols:\n",
    "    df_new=df_new.na.fill(0.0,subset=i)\n",
    "    df_new.select(i).show()\n"
   ]
  },
  {
   "cell_type": "markdown",
   "metadata": {},
   "source": [
    "### filtering data based on a condition"
   ]
  },
  {
   "cell_type": "code",
   "execution_count": 44,
   "metadata": {},
   "outputs": [
    {
     "name": "stdout",
     "output_type": "stream",
     "text": [
      "+-----+----------+---------+--------------------------------------------+-------------------------------------------------+------------------------------------------------+-----------------------------------------------------+------------------------------+------------------------+------------------------------------+-----------------------------+-------------------------------------------------------+------------------+-----------------------------------------------------------+---------------------------------------------------+---------------------------------+\n",
      "|Sl_No|     state| district|Recharge_from_Rainfall_during_Monsoon_season|Recharge_From_Other_Sources_during_monsoon_season|Recharge_from_Rainfall_during_non_monsoon_season|Recharge_From_Other_Sources_during_non_monsoon_season|Annual_Replenishable_resources|Annual_Natural_Discharge|Net_Annual_Ground_Water_Availability|Draft_due_to_Irrigation_Needs|Draft_due_to_Domestic_and_Industrial_Water_Supply_Needs|Total_annual_Draft|Projected_demand_for_Domestic_and_Industrial_uses_upto_2025|Ground_Water_Availability_for_Future_Irrigation_use|Stage_of_Ground_Water_Development|\n",
      "+-----+----------+---------+--------------------------------------------+-------------------------------------------------+------------------------------------------------+-----------------------------------------------------+------------------------------+------------------------+------------------------------------+-----------------------------+-------------------------------------------------------+------------------+-----------------------------------------------------------+---------------------------------------------------+---------------------------------+\n",
      "|  652|LAKSADWEEP|  Androth|                                         0.0|                                              0.0|                                             0.0|                                                  0.0|                         192.5|                   130.2|                                62.3|                          0.0|                                                   41.2|              41.2|                                                        0.0|                                                0.0|                             66.0|\n",
      "|  653|LAKSADWEEP|  Chetlat|                                         0.0|                                              0.0|                                             0.0|                                                  0.0|                          41.4|                    27.8|                                13.6|                          0.0|                                                    8.6|               8.6|                                                        0.0|                                                0.0|                             63.0|\n",
      "|  656|LAKSADWEEP|   Kiltan|                                         0.0|                                              0.0|                                             0.0|                                                  0.0|                          64.8|                    43.1|                                21.7|                          0.0|                                                   14.6|              14.6|                                                        0.0|                                                0.0|                             67.0|\n",
      "|  658|LAKSADWEEP|  Minicoy|                                         0.0|                                              0.0|                                             0.0|                                                  0.0|                         185.8|                   121.6|                                64.2|                          0.0|                                                   38.9|              38.9|                                                        0.0|                                                0.0|                             61.0|\n",
      "|  651|LAKSADWEEP|    Amini|                                         0.0|                                              0.0|                                             0.0|                                                  0.0|                         103.0|                    69.0|                                34.1|                          0.0|                                                   28.2|              28.2|                                                        0.0|                                                0.0|                             83.0|\n",
      "|  650|LAKSADWEEP|   Agatti|                                         0.0|                                              0.0|                                             0.0|                                                  0.0|                         107.8|                    72.4|                                35.4|                          0.0|                                                   28.0|              28.0|                                                        0.0|                                                0.0|                             79.0|\n",
      "|  655|LAKSADWEEP|  Kalpeni|                                         0.0|                                              0.0|                                             0.0|                                                  0.0|                          90.7|                    61.0|                                29.7|                          0.0|                                                   16.2|              16.2|                                                        0.0|                                                0.0|                             55.0|\n",
      "|  654|LAKSADWEEP|   Kadmat|                                         0.0|                                              0.0|                                             0.0|                                                  0.0|                         124.1|                    83.4|                                40.7|                          0.0|                                                   19.7|              19.7|                                                        0.0|                                                0.0|                             48.0|\n",
      "|  657|LAKSADWEEP|Kavaratti|                                         0.0|                                              0.0|                                             0.0|                                                  0.0|                         144.4|                    96.0|                                48.4|                          0.0|                                                   41.8|              41.8|                                                        0.0|                                                0.0|                             86.0|\n",
      "+-----+----------+---------+--------------------------------------------+-------------------------------------------------+------------------------------------------------+-----------------------------------------------------+------------------------------+------------------------+------------------------------------+-----------------------------+-------------------------------------------------------+------------------+-----------------------------------------------------------+---------------------------------------------------+---------------------------------+\n",
      "\n"
     ]
    }
   ],
   "source": [
    "df_new.filter(df_new.state=='LAKSADWEEP').show()"
   ]
  },
  {
   "cell_type": "code",
   "execution_count": 45,
   "metadata": {},
   "outputs": [
    {
     "name": "stdout",
     "output_type": "stream",
     "text": [
      "+-----+-----+--------+--------------------------------------------+-------------------------------------------------+------------------------------------------------+-----------------------------------------------------+------------------------------+------------------------+------------------------------------+-----------------------------+-------------------------------------------------------+------------------+-----------------------------------------------------------+---------------------------------------------------+---------------------------------+\n",
      "|Sl_No|state|district|Recharge_from_Rainfall_during_Monsoon_season|Recharge_From_Other_Sources_during_monsoon_season|Recharge_from_Rainfall_during_non_monsoon_season|Recharge_From_Other_Sources_during_non_monsoon_season|Annual_Replenishable_resources|Annual_Natural_Discharge|Net_Annual_Ground_Water_Availability|Draft_due_to_Irrigation_Needs|Draft_due_to_Domestic_and_Industrial_Water_Supply_Needs|Total_annual_Draft|Projected_demand_for_Domestic_and_Industrial_uses_upto_2025|Ground_Water_Availability_for_Future_Irrigation_use|Stage_of_Ground_Water_Development|\n",
      "+-----+-----+--------+--------------------------------------------+-------------------------------------------------+------------------------------------------------+-----------------------------------------------------+------------------------------+------------------------+------------------------------------+-----------------------------+-------------------------------------------------------+------------------+-----------------------------------------------------------+---------------------------------------------------+---------------------------------+\n",
      "|    0|    0|       0|                                           0|                                                0|                                               0|                                                    0|                             0|                       0|                                   0|                            0|                                                      0|                 0|                                                          0|                                                  0|                                0|\n",
      "+-----+-----+--------+--------------------------------------------+-------------------------------------------------+------------------------------------------------+-----------------------------------------------------+------------------------------+------------------------+------------------------------------+-----------------------------+-------------------------------------------------------+------------------+-----------------------------------------------------------+---------------------------------------------------+---------------------------------+\n",
      "\n"
     ]
    }
   ],
   "source": [
    "df_new.select([count(when(col(c).isNull(),c)).alias(c) for c in df_new.columns]).show()"
   ]
  },
  {
   "cell_type": "markdown",
   "metadata": {},
   "source": [
    "## Analysis"
   ]
  },
  {
   "cell_type": "markdown",
   "metadata": {},
   "source": [
    "### number of entries under each state"
   ]
  },
  {
   "cell_type": "code",
   "execution_count": 46,
   "metadata": {},
   "outputs": [
    {
     "name": "stdout",
     "output_type": "stream",
     "text": [
      "+--------------------+-----+\n",
      "|               state|count|\n",
      "+--------------------+-----+\n",
      "|           MEGHALAYA|   11|\n",
      "|         WEST BENGAL|   17|\n",
      "|           JHARKHUND|   24|\n",
      "|DADRA NAGAR & HAVELI|    1|\n",
      "|         DAMAN & DIU|    2|\n",
      "|        CHCHATISGARH|   27|\n",
      "|          LAKSADWEEP|    9|\n",
      "|         UTTARAKHUND|    4|\n",
      "|                 GOA|    2|\n",
      "|           RAJASTHAN|   33|\n",
      "|             TRIPURA|    4|\n",
      "|               DELHI|   27|\n",
      "|    HIMACHAL PRADESH|    8|\n",
      "|               BIHAR|   38|\n",
      "|           KARNATAKA|   30|\n",
      "|     JAMMU & KASHMIR|   23|\n",
      "|       UTTAR PRADESH|   75|\n",
      "|             MANIPUR|    9|\n",
      "|      MADHYA PRADESH|   51|\n",
      "|          PUDUCHERRY|    3|\n",
      "+--------------------+-----+\n",
      "only showing top 20 rows\n",
      "\n"
     ]
    }
   ],
   "source": [
    "df_new.groupBy('state').count().show()"
   ]
  },
  {
   "cell_type": "markdown",
   "metadata": {},
   "source": [
    "### distinct number of states and districts in dataset"
   ]
  },
  {
   "cell_type": "code",
   "execution_count": 47,
   "metadata": {},
   "outputs": [
    {
     "name": "stdout",
     "output_type": "stream",
     "text": [
      "+----------------+-------------+\n",
      "|unique districts|unique states|\n",
      "+----------------+-------------+\n",
      "|             657|           35|\n",
      "+----------------+-------------+\n",
      "\n"
     ]
    }
   ],
   "source": [
    "df_new.select(countDistinct('district').alias('unique districts'),countDistinct('state').alias('unique states')).show()"
   ]
  },
  {
   "cell_type": "markdown",
   "metadata": {},
   "source": [
    "### obtaining mean,max,min values in each numerical column"
   ]
  },
  {
   "cell_type": "code",
   "execution_count": 48,
   "metadata": {},
   "outputs": [
    {
     "name": "stdout",
     "output_type": "stream",
     "text": [
      "+-----------------------------------------------------------+-----------------------------------------------------------+-----------------------------------------------------------+\n",
      "|round(avg(Recharge_from_Rainfall_during_Monsoon_season), 1)|round(max(Recharge_from_Rainfall_during_Monsoon_season), 1)|round(min(Recharge_from_Rainfall_during_Monsoon_season), 1)|\n",
      "+-----------------------------------------------------------+-----------------------------------------------------------+-----------------------------------------------------------+\n",
      "|                                                    39317.9|                                                   241691.7|                                                        0.0|\n",
      "+-----------------------------------------------------------+-----------------------------------------------------------+-----------------------------------------------------------+\n",
      "\n",
      "+----------------------------------------------------------------+----------------------------------------------------------------+----------------------------------------------------------------+\n",
      "|round(avg(Recharge_From_Other_Sources_during_monsoon_season), 1)|round(max(Recharge_From_Other_Sources_during_monsoon_season), 1)|round(min(Recharge_From_Other_Sources_during_monsoon_season), 1)|\n",
      "+----------------------------------------------------------------+----------------------------------------------------------------+----------------------------------------------------------------+\n",
      "|                                                         10907.3|                                                        128976.0|                                                             0.0|\n",
      "+----------------------------------------------------------------+----------------------------------------------------------------+----------------------------------------------------------------+\n",
      "\n",
      "+---------------------------------------------------------------+---------------------------------------------------------------+---------------------------------------------------------------+\n",
      "|round(avg(Recharge_from_Rainfall_during_non_monsoon_season), 1)|round(max(Recharge_from_Rainfall_during_non_monsoon_season), 1)|round(min(Recharge_from_Rainfall_during_non_monsoon_season), 1)|\n",
      "+---------------------------------------------------------------+---------------------------------------------------------------+---------------------------------------------------------------+\n",
      "|                                                         6134.8|                                                        70126.0|                                                            0.0|\n",
      "+---------------------------------------------------------------+---------------------------------------------------------------+---------------------------------------------------------------+\n",
      "\n",
      "+--------------------------------------------------------------------+--------------------------------------------------------------------+--------------------------------------------------------------------+\n",
      "|round(avg(Recharge_From_Other_Sources_during_non_monsoon_season), 1)|round(max(Recharge_From_Other_Sources_during_non_monsoon_season), 1)|round(min(Recharge_From_Other_Sources_during_non_monsoon_season), 1)|\n",
      "+--------------------------------------------------------------------+--------------------------------------------------------------------+--------------------------------------------------------------------+\n",
      "|                                                             11243.5|                                                             85132.0|                                                                 0.0|\n",
      "+--------------------------------------------------------------------+--------------------------------------------------------------------+--------------------------------------------------------------------+\n",
      "\n",
      "+---------------------------------------------+---------------------------------------------+---------------------------------------------+\n",
      "|round(avg(Annual_Replenishable_resources), 1)|round(max(Annual_Replenishable_resources), 1)|round(min(Annual_Replenishable_resources), 1)|\n",
      "+---------------------------------------------+---------------------------------------------+---------------------------------------------+\n",
      "|                                      67605.1|                                     363854.7|                                          0.0|\n",
      "+---------------------------------------------+---------------------------------------------+---------------------------------------------+\n",
      "\n",
      "+---------------------------------------+---------------------------------------+---------------------------------------+\n",
      "|round(avg(Annual_Natural_Discharge), 1)|round(max(Annual_Natural_Discharge), 1)|round(min(Annual_Natural_Discharge), 1)|\n",
      "+---------------------------------------+---------------------------------------+---------------------------------------+\n",
      "|                                 5382.9|                                34991.2|                                    0.0|\n",
      "+---------------------------------------+---------------------------------------+---------------------------------------+\n",
      "\n",
      "+---------------------------------------------------+---------------------------------------------------+---------------------------------------------------+\n",
      "|round(avg(Net_Annual_Ground_Water_Availability), 1)|round(max(Net_Annual_Ground_Water_Availability), 1)|round(min(Net_Annual_Ground_Water_Availability), 1)|\n",
      "+---------------------------------------------------+---------------------------------------------------+---------------------------------------------------+\n",
      "|                                            62222.1|                                           328863.5|                                                0.0|\n",
      "+---------------------------------------------------+---------------------------------------------------+---------------------------------------------------+\n",
      "\n",
      "+--------------------------------------------+--------------------------------------------+--------------------------------------------+\n",
      "|round(avg(Draft_due_to_Irrigation_Needs), 1)|round(max(Draft_due_to_Irrigation_Needs), 1)|round(min(Draft_due_to_Irrigation_Needs), 1)|\n",
      "+--------------------------------------------+--------------------------------------------+--------------------------------------------+\n",
      "|                                     34538.5|                                    362759.0|                                         0.0|\n",
      "+--------------------------------------------+--------------------------------------------+--------------------------------------------+\n",
      "\n",
      "+----------------------------------------------------------------------+----------------------------------------------------------------------+----------------------------------------------------------------------+\n",
      "|round(avg(Draft_due_to_Domestic_and_Industrial_Water_Supply_Needs), 1)|round(max(Draft_due_to_Domestic_and_Industrial_Water_Supply_Needs), 1)|round(min(Draft_due_to_Domestic_and_Industrial_Water_Supply_Needs), 1)|\n",
      "+----------------------------------------------------------------------+----------------------------------------------------------------------+----------------------------------------------------------------------+\n",
      "|                                                                3747.0|                                                               34160.3|                                                                   0.0|\n",
      "+----------------------------------------------------------------------+----------------------------------------------------------------------+----------------------------------------------------------------------+\n",
      "\n",
      "+---------------------------------+---------------------------------+---------------------------------+\n",
      "|round(avg(Total_annual_Draft), 1)|round(max(Total_annual_Draft), 1)|round(min(Total_annual_Draft), 1)|\n",
      "+---------------------------------+---------------------------------+---------------------------------+\n",
      "|                          38285.5|                         366426.0|                              0.0|\n",
      "+---------------------------------+---------------------------------+---------------------------------+\n",
      "\n"
     ]
    },
    {
     "name": "stdout",
     "output_type": "stream",
     "text": [
      "+--------------------------------------------------------------------------+--------------------------------------------------------------------------+--------------------------------------------------------------------------+\n",
      "|round(avg(Projected_demand_for_Domestic_and_Industrial_uses_upto_2025), 1)|round(max(Projected_demand_for_Domestic_and_Industrial_uses_upto_2025), 1)|round(min(Projected_demand_for_Domestic_and_Industrial_uses_upto_2025), 1)|\n",
      "+--------------------------------------------------------------------------+--------------------------------------------------------------------------+--------------------------------------------------------------------------+\n",
      "|                                                                    4783.5|                                                                   46578.0|                                                                       0.0|\n",
      "+--------------------------------------------------------------------------+--------------------------------------------------------------------------+--------------------------------------------------------------------------+\n",
      "\n",
      "+------------------------------------------------------------------+------------------------------------------------------------------+------------------------------------------------------------------+\n",
      "|round(avg(Ground_Water_Availability_for_Future_Irrigation_use), 1)|round(max(Ground_Water_Availability_for_Future_Irrigation_use), 1)|round(min(Ground_Water_Availability_for_Future_Irrigation_use), 1)|\n",
      "+------------------------------------------------------------------+------------------------------------------------------------------+------------------------------------------------------------------+\n",
      "|                                                           24543.3|                                                          264315.1|                                                         -194037.0|\n",
      "+------------------------------------------------------------------+------------------------------------------------------------------+------------------------------------------------------------------+\n",
      "\n",
      "+------------------------------------------------+------------------------------------------------+------------------------------------------------+\n",
      "|round(avg(Stage_of_Ground_Water_Development), 1)|round(max(Stage_of_Ground_Water_Development), 1)|round(min(Stage_of_Ground_Water_Development), 1)|\n",
      "+------------------------------------------------+------------------------------------------------+------------------------------------------------+\n",
      "|                                            61.5|                                           411.0|                                             0.0|\n",
      "+------------------------------------------------+------------------------------------------------+------------------------------------------------+\n",
      "\n"
     ]
    }
   ],
   "source": [
    "for i in cols:\n",
    "    df_new.select(round(avg(i),1),round(max(i),1),round(min(i),1)).show()"
   ]
  },
  {
   "cell_type": "markdown",
   "metadata": {},
   "source": [
    "### obtaining state wise average annual_natural_discharge and displaying in descending order"
   ]
  },
  {
   "cell_type": "code",
   "execution_count": 49,
   "metadata": {},
   "outputs": [
    {
     "name": "stdout",
     "output_type": "stream",
     "text": [
      "+-----------------+----------------------------+\n",
      "|            state|avg_annual_natural_discharge|\n",
      "+-----------------+----------------------------+\n",
      "|      WEST BENGAL|                    16315.72|\n",
      "|        TELANGANA|                    15044.44|\n",
      "|   ANDHRA PRADESH|                    14725.46|\n",
      "|            ASSAM|                    11891.15|\n",
      "|           PUNJAB|                    11463.14|\n",
      "|            BIHAR|                     7427.29|\n",
      "|        KARNATAKA|                      7216.2|\n",
      "|        TAMILNADU|                     6454.08|\n",
      "|    UTTAR PRADESH|                     6353.55|\n",
      "|      MAHARASHTRA|                     5185.89|\n",
      "|          TRIPURA|                     5062.01|\n",
      "|          HARYANA|                     5055.25|\n",
      "|              GOA|                      4875.0|\n",
      "|           KERALA|                     4319.07|\n",
      "|ANDAMAN & NICOBAR|                     4196.53|\n",
      "|          GIJARAT|                     4101.96|\n",
      "|        RAJASTHAN|                     3807.78|\n",
      "|           ODISHA|                     3622.37|\n",
      "|   MADHYA PRADESH|                     3568.03|\n",
      "|     CHCHATISGARH|                     3319.71|\n",
      "+-----------------+----------------------------+\n",
      "only showing top 20 rows\n",
      "\n"
     ]
    }
   ],
   "source": [
    "d1=df_new.groupBy('state').agg(round(avg('Annual_Natural_Discharge'),2).alias('avg_annual_natural_discharge'))\n",
    "d1.orderBy(d1.avg_annual_natural_discharge.desc()).show()"
   ]
  },
  {
   "cell_type": "markdown",
   "metadata": {},
   "source": [
    "### number of unique districts having stage of ground water development percentage greater than 100"
   ]
  },
  {
   "cell_type": "code",
   "execution_count": 50,
   "metadata": {},
   "outputs": [
    {
     "name": "stdout",
     "output_type": "stream",
     "text": [
      "+------------------------+\n",
      "|count(DISTINCT district)|\n",
      "+------------------------+\n",
      "|                     104|\n",
      "+------------------------+\n",
      "\n"
     ]
    }
   ],
   "source": [
    "df_new.filter(df_new.Stage_of_Ground_Water_Development>100).select(countDistinct('district')).show()"
   ]
  },
  {
   "cell_type": "markdown",
   "metadata": {},
   "source": [
    "### obtaining proportional contribution of each sources in annual replenishable resources"
   ]
  },
  {
   "cell_type": "code",
   "execution_count": 51,
   "metadata": {},
   "outputs": [
    {
     "name": "stdout",
     "output_type": "stream",
     "text": [
      "+-------------------------+------------------------------+-----------------------------+----------------------------------+\n",
      "|rainfall during monsoon %|other sources during monsoon %|rainfall during non monsoon %|other sources during non monsoon %|\n",
      "+-------------------------+------------------------------+-----------------------------+----------------------------------+\n",
      "|                     27.1|                          38.3|                          8.8|                              25.8|\n",
      "|                     87.8|                           1.8|                          4.4|                               6.0|\n",
      "|                     65.5|                           9.3|                         23.7|                               1.5|\n",
      "|                     57.5|                          12.9|                         21.0|                               8.7|\n",
      "|                     50.7|                           7.8|                         13.5|                              28.0|\n",
      "|                     25.6|                          51.8|                          5.4|                              17.2|\n",
      "|                     87.6|                           0.3|                         10.6|                               1.5|\n",
      "|                     79.5|                           4.6|                          0.0|                              15.9|\n",
      "|                     59.2|                           2.6|                          8.0|                              30.1|\n",
      "|                     84.4|                           3.7|                          0.0|                              11.9|\n",
      "|                     74.5|                          10.9|                          8.6|                               6.0|\n",
      "|                     90.5|                           4.2|                          0.0|                               5.3|\n",
      "|                     88.2|                           3.0|                          0.0|                               8.8|\n",
      "|                     47.9|                          30.2|                         12.8|                               9.1|\n",
      "|                     86.4|                           0.5|                         10.8|                               2.3|\n",
      "|                     94.1|                           0.3|                          4.5|                               1.1|\n",
      "|                     66.6|                          14.2|                          0.0|                              19.2|\n",
      "|                     28.1|                           1.0|                          5.0|                              65.9|\n",
      "|                     42.2|                          12.0|                         10.2|                              35.6|\n",
      "|                     21.0|                          27.0|                         12.7|                              39.3|\n",
      "+-------------------------+------------------------------+-----------------------------+----------------------------------+\n",
      "only showing top 20 rows\n",
      "\n"
     ]
    }
   ],
   "source": [
    "df_new.filter(df_new.Annual_Replenishable_resources!=0).select(round((df_new.Recharge_from_Rainfall_during_Monsoon_season/df_new.Annual_Replenishable_resources)*100,1).alias('rainfall during monsoon %'),round((df_new.Recharge_From_Other_Sources_during_monsoon_season/df_new.Annual_Replenishable_resources)*100,1).alias('other sources during monsoon %'),round((df_new.Recharge_from_Rainfall_during_non_monsoon_season/df_new.Annual_Replenishable_resources)*100,1).alias('rainfall during non monsoon %'),round((df_new.Recharge_From_Other_Sources_during_non_monsoon_season/df_new.Annual_Replenishable_resources)*100,1).alias('other sources during non monsoon %')).show()"
   ]
  },
  {
   "cell_type": "markdown",
   "metadata": {},
   "source": [
    "### ratio of drafted irrigational , industrial and water supply needs to total annual draft"
   ]
  },
  {
   "cell_type": "code",
   "execution_count": 52,
   "metadata": {},
   "outputs": [
    {
     "name": "stdout",
     "output_type": "stream",
     "text": [
      "+--------------------------------------------+-----------------------------------------------------------+\n",
      "|proportion of draft for irrigational needs %|proportion of draft for industrial and water supply needs %|\n",
      "+--------------------------------------------+-----------------------------------------------------------+\n",
      "|                                        94.6|                                                        5.4|\n",
      "|                                        86.4|                                                       13.6|\n",
      "|                                        88.6|                                                       11.4|\n",
      "|                                        81.8|                                                       18.2|\n",
      "|                                        96.5|                                                        3.5|\n",
      "|                                        98.5|                                                        1.5|\n",
      "|                                        53.5|                                                       46.5|\n",
      "|                                        96.5|                                                        3.5|\n",
      "|                                        15.8|                                                       84.2|\n",
      "|                                        82.6|                                                       17.4|\n",
      "|                                        75.7|                                                       24.3|\n",
      "|                                        55.5|                                                       44.5|\n",
      "|                                        89.0|                                                       11.0|\n",
      "|                                        94.7|                                                        5.3|\n",
      "|                                        79.6|                                                       20.4|\n",
      "|                                        47.0|                                                       53.0|\n",
      "|                                        77.6|                                                       22.4|\n",
      "|                                        53.7|                                                       46.3|\n",
      "|                                        95.9|                                                        4.1|\n",
      "|                                         0.3|                                                       99.7|\n",
      "+--------------------------------------------+-----------------------------------------------------------+\n",
      "only showing top 20 rows\n",
      "\n"
     ]
    }
   ],
   "source": [
    "df_new.filter(df_new.Total_annual_Draft!=0).select(round((df_new.Draft_due_to_Irrigation_Needs/df_new.Total_annual_Draft)*100,1).alias('proportion of draft for irrigational needs %'),round((df_new.Draft_due_to_Domestic_and_Industrial_Water_Supply_Needs/df_new.Total_annual_Draft)*100,1).alias('proportion of draft for industrial and water supply needs %')).show()"
   ]
  },
  {
   "cell_type": "code",
   "execution_count": 53,
   "metadata": {},
   "outputs": [
    {
     "name": "stdout",
     "output_type": "stream",
     "text": [
      "+-----+-----+--------+--------------------------------------------+-------------------------------------------------+------------------------------------------------+-----------------------------------------------------+------------------------------+------------------------+------------------------------------+-----------------------------+-------------------------------------------------------+------------------+-----------------------------------------------------------+---------------------------------------------------+---------------------------------+\n",
      "|Sl_No|state|district|Recharge_from_Rainfall_during_Monsoon_season|Recharge_From_Other_Sources_during_monsoon_season|Recharge_from_Rainfall_during_non_monsoon_season|Recharge_From_Other_Sources_during_non_monsoon_season|Annual_Replenishable_resources|Annual_Natural_Discharge|Net_Annual_Ground_Water_Availability|Draft_due_to_Irrigation_Needs|Draft_due_to_Domestic_and_Industrial_Water_Supply_Needs|Total_annual_Draft|Projected_demand_for_Domestic_and_Industrial_uses_upto_2025|Ground_Water_Availability_for_Future_Irrigation_use|Stage_of_Ground_Water_Development|\n",
      "+-----+-----+--------+--------------------------------------------+-------------------------------------------------+------------------------------------------------+-----------------------------------------------------+------------------------------+------------------------+------------------------------------+-----------------------------+-------------------------------------------------------+------------------+-----------------------------------------------------------+---------------------------------------------------+---------------------------------+\n",
      "|    0|    0|       0|                                           0|                                                0|                                               0|                                                    0|                             0|                       0|                                   0|                            0|                                                      0|                 0|                                                          0|                                                  0|                                0|\n",
      "+-----+-----+--------+--------------------------------------------+-------------------------------------------------+------------------------------------------------+-----------------------------------------------------+------------------------------+------------------------+------------------------------------+-----------------------------+-------------------------------------------------------+------------------+-----------------------------------------------------------+---------------------------------------------------+---------------------------------+\n",
      "\n"
     ]
    }
   ],
   "source": [
    "df_new.select([count(when(col(c).isNull(),c)).alias(c) for c in df_new.columns]).show()"
   ]
  },
  {
   "cell_type": "markdown",
   "metadata": {},
   "source": [
    "### obtaining unique no.of states based on pattern matching"
   ]
  },
  {
   "cell_type": "code",
   "execution_count": 54,
   "metadata": {},
   "outputs": [
    {
     "name": "stdout",
     "output_type": "stream",
     "text": [
      "+---------------------+\n",
      "|count(DISTINCT state)|\n",
      "+---------------------+\n",
      "|                    2|\n",
      "+---------------------+\n",
      "\n"
     ]
    }
   ],
   "source": [
    "df_new.filter(df_new.state.like('AND%')).select(countDistinct(df_new.state)).show()"
   ]
  },
  {
   "cell_type": "code",
   "execution_count": 55,
   "metadata": {},
   "outputs": [
    {
     "name": "stdout",
     "output_type": "stream",
     "text": [
      "+-----+---------+------------+--------------------------------------------+-------------------------------------------------+------------------------------------------------+-----------------------------------------------------+------------------------------+------------------------+------------------------------------+-----------------------------+-------------------------------------------------------+------------------+-----------------------------------------------------------+---------------------------------------------------+---------------------------------+\n",
      "|Sl_No|    state|    district|Recharge_from_Rainfall_during_Monsoon_season|Recharge_From_Other_Sources_during_monsoon_season|Recharge_from_Rainfall_during_non_monsoon_season|Recharge_From_Other_Sources_during_non_monsoon_season|Annual_Replenishable_resources|Annual_Natural_Discharge|Net_Annual_Ground_Water_Availability|Draft_due_to_Irrigation_Needs|Draft_due_to_Domestic_and_Industrial_Water_Supply_Needs|Total_annual_Draft|Projected_demand_for_Domestic_and_Industrial_uses_upto_2025|Ground_Water_Availability_for_Future_Irrigation_use|Stage_of_Ground_Water_Development|\n",
      "+-----+---------+------------+--------------------------------------------+-------------------------------------------------+------------------------------------------------+-----------------------------------------------------+------------------------------+------------------------+------------------------------------+-----------------------------+-------------------------------------------------------+------------------+-----------------------------------------------------------+---------------------------------------------------+---------------------------------+\n",
      "|  164|  GIJARAT|    Mahesana|                                     76463.4|                                         10621.22|                                             0.0|                                             12992.13|                     100076.75|                 5003.84|                            95072.91|                     110581.0|                                                 4976.0|          115557.0|                                                     6476.0|                                             196.02|                            122.0|\n",
      "|  268|KARNATAKA|      Hassan|                                     20686.0|                                          28756.0|                                         13069.0|                                              18648.0|                       81159.0|                  8392.0|                             72768.0|                      38560.0|                                                 2826.0|           41386.0|                                                     3915.0|                                            30560.0|                             57.0|\n",
      "|  145|    DELHI|Vasant Vihar|                                      784.75|                                            77.86|                                          133.13|                                               234.67|                       1230.41|                  123.04|                             1107.37|                       303.91|                                                2668.11|           2972.02|                                                    2668.11|                                                0.0|                            268.0|\n",
      "+-----+---------+------------+--------------------------------------------+-------------------------------------------------+------------------------------------------------+-----------------------------------------------------+------------------------------+------------------------+------------------------------------+-----------------------------+-------------------------------------------------------+------------------+-----------------------------------------------------------+---------------------------------------------------+---------------------------------+\n",
      "\n"
     ]
    }
   ],
   "source": [
    "df_new.filter(df_new.district.contains('san')).show()"
   ]
  },
  {
   "cell_type": "code",
   "execution_count": 57,
   "metadata": {},
   "outputs": [
    {
     "name": "stdout",
     "output_type": "stream",
     "text": [
      "+-----+------+------------+--------------------------------------------+-------------------------------------------------+------------------------------------------------+-----------------------------------------------------+------------------------------+------------------------+------------------------------------+-----------------------------+-------------------------------------------------------+------------------+-----------------------------------------------------------+---------------------------------------------------+---------------------------------+\n",
      "|Sl_No| state|    district|Recharge_from_Rainfall_during_Monsoon_season|Recharge_From_Other_Sources_during_monsoon_season|Recharge_from_Rainfall_during_non_monsoon_season|Recharge_From_Other_Sources_during_non_monsoon_season|Annual_Replenishable_resources|Annual_Natural_Discharge|Net_Annual_Ground_Water_Availability|Draft_due_to_Irrigation_Needs|Draft_due_to_Domestic_and_Industrial_Water_Supply_Needs|Total_annual_Draft|Projected_demand_for_Domestic_and_Industrial_uses_upto_2025|Ground_Water_Availability_for_Future_Irrigation_use|Stage_of_Ground_Water_Development|\n",
      "+-----+------+------------+--------------------------------------------+-------------------------------------------------+------------------------------------------------+-----------------------------------------------------+------------------------------+------------------------+------------------------------------+-----------------------------+-------------------------------------------------------+------------------+-----------------------------------------------------------+---------------------------------------------------+---------------------------------+\n",
      "|   84| BIHAR|      Rohtas|                                    92009.77|                                         13448.21|                                        10670.68|                                              7380.68|                     123509.34|                11858.02|                           111651.32|                      19959.3|                                                6399.64|          26358.94|                                                     1741.0|                                           89951.02|                            23.61|\n",
      "|  425|ODISHA|     Cuttack|                                     38608.0|                                          12326.0|                                          2430.0|                                              22353.0|                       75717.0|                  5001.0|                             70716.0|                      21925.0|                                                 6129.0|           28054.0|                                                     8143.0|                                            40648.0|                             40.0|\n",
      "|   92| BIHAR|      Supaul|                                    61106.69|                                         10798.75|                                        11808.84|                                              8418.32|                       92132.6|                 6527.96|                            85604.64|                      22048.2|                                                4848.78|          26896.98|                                                     1306.0|                                           62250.44|                            31.42|\n",
      "|  424|ODISHA|       Boudh|                                     14105.0|                                           7742.0|                                          1930.0|                                               6123.0|                       29900.0|                  2061.0|                             27839.0|                       5238.0|                                                  912.0|            6150.0|                                                     1460.0|                                            21141.0|                             22.0|\n",
      "|   78| BIHAR|      Munger|                                    26929.75|                                          5774.56|                                          4179.3|                                              4452.61|                      41336.22|                 3969.16|                            37367.06|                       9136.6|                                                2968.72|          12105.32|                                                      808.0|                                           27422.46|                             32.4|\n",
      "|  439|ODISHA|  Malkangiri|                                     25865.0|                                           5111.0|                                          1091.0|                                               3824.0|                       35891.0|                  2293.0|                             33598.0|                       2845.0|                                                 1136.0|            3981.0|                                                     1860.0|                                            28893.0|                             12.0|\n",
      "|   57| BIHAR|      Araria|                                    64316.63|                                          5629.64|                                        16077.93|                                              2391.98|                      88416.18|                 8841.62|                            79574.56|                      16526.4|                                                6061.67|          22588.07|                                                     1646.0|                                           61402.16|                            28.39|\n",
      "|  441|ODISHA|Nabarangapur|                                     46035.0|                                           1724.0|                                          3730.0|                                               1615.0|                       53104.0|                  2798.0|                             50306.0|                       5446.0|                                                 2918.0|            8364.0|                                                     6815.0|                                            38045.0|                             17.0|\n",
      "|  421|ODISHA|     Bargarh|                                     38893.0|                                           4556.0|                                          1127.0|                                               4261.0|                       48837.0|                  2783.0|                             46054.0|                       9706.0|                                                 3180.0|           12886.0|                                                     4097.0|                                            32250.0|                             28.0|\n",
      "|  442|ODISHA|    Nayagarh|                                     25801.0|                                           6297.0|                                          6747.0|                                               6714.0|                       45559.0|                  2877.0|                             42682.0|                       9224.0|                                                 2036.0|           11260.0|                                                     2854.0|                                            30604.0|                             26.0|\n",
      "|  447|ODISHA|  Subarnapur|                                     17161.0|                                           2348.0|                                           607.0|                                               2531.0|                       22647.0|                  1218.0|                             21429.0|                       3443.0|                                                 1238.0|            4681.0|                                                     1843.0|                                            16143.0|                             22.0|\n",
      "|  428|ODISHA|    Gajapati|                                     10985.0|                                           3549.0|                                          5802.0|                                               3673.0|                       24009.0|                  1339.0|                             22670.0|                       5769.0|                                                 1061.0|            6830.0|                                                     1302.0|                                            15599.0|                             30.0|\n",
      "|  437|ODISHA|      Khurda|                                     27948.0|                                           7316.0|                                          8884.0|                                               6639.0|                       50787.0|                  3169.0|                             47618.0|                      11286.0|                                                 5341.0|           16627.0|                                                     8317.0|                                            28015.0|                             35.0|\n",
      "|   87| BIHAR|       Saran|                                    61458.09|                                         11476.26|                                         8104.88|                                             14115.53|                      95154.76|                  8616.6|                            86538.16|                      47711.1|                                                9332.85|          57043.95|                                                     2316.0|                                           36511.06|                            65.92|\n",
      "|   58| BIHAR|       Arwal|                                    14215.29|                                          5040.38|                                         1978.24|                                              3679.36|                      24913.27|                 2222.55|                            22690.72|                       8814.9|                                                1884.15|          10699.05|                                                      448.0|                                           13427.82|                            47.15|\n",
      "|   60| BIHAR|       Banka|                                    40422.71|                                          7066.94|                                         7804.28|                                              2402.29|                      57696.22|                 5613.03|                            52083.19|                      11728.8|                                                4154.66|          15883.46|                                                     1199.0|                                           39155.39|                             30.5|\n",
      "|   66| BIHAR|   Darbhanga|                                     48113.4|                                          5124.21|                                         7547.95|                                              6015.35|                      66800.91|                 4611.29|                            62189.62|                      22714.6|                                                9096.32|          31810.92|                                                     2308.0|                                           37167.02|                            51.15|\n",
      "|   82| BIHAR|       Patna|                                    71244.76|                                         13927.82|                                        10351.51|                                             20319.74|                     115843.83|                11584.38|                           104259.45|                      36622.1|                                               13051.46|          49673.56|                                                     3419.0|                                           64218.35|                            47.64|\n",
      "|  426|ODISHA|     Deogarh|                                     13351.0|                                           4256.0|                                             0.0|                                               4566.0|                       22173.0|                  1544.0|                             20629.0|                       3116.0|                                                  652.0|            3768.0|                                                     1020.0|                                            16493.0|                             18.0|\n",
      "|  432|ODISHA|  Jharsuguda|                                     14605.0|                                           1572.0|                                             0.0|                                               1600.0|                       17777.0|                   986.0|                             16791.0|                       3984.0|                                                 1459.0|            5443.0|                                                     1830.0|                                            10977.0|                             32.0|\n",
      "+-----+------+------------+--------------------------------------------+-------------------------------------------------+------------------------------------------------+-----------------------------------------------------+------------------------------+------------------------+------------------------------------+-----------------------------+-------------------------------------------------------+------------------+-----------------------------------------------------------+---------------------------------------------------+---------------------------------+\n",
      "only showing top 20 rows\n",
      "\n"
     ]
    }
   ],
   "source": [
    "df_new.filter(df_new.state.isin('ODISHA','BIHAR')).show()"
   ]
  },
  {
   "cell_type": "markdown",
   "metadata": {},
   "source": [
    "### using multiple filter conditions"
   ]
  },
  {
   "cell_type": "code",
   "execution_count": 58,
   "metadata": {},
   "outputs": [
    {
     "name": "stdout",
     "output_type": "stream",
     "text": [
      "+---------+\n",
      "| district|\n",
      "+---------+\n",
      "|  Patiala|\n",
      "| Ludhiana|\n",
      "| Amritsar|\n",
      "|Jalandhar|\n",
      "|   Mohali|\n",
      "|Gurdaspur|\n",
      "+---------+\n",
      "\n"
     ]
    }
   ],
   "source": [
    "from pyspark.sql.functions import *\n",
    "df_new.filter((df_new.state=='PUNJAB') & (df_new.Projected_demand_for_Domestic_and_Industrial_uses_upto_2025 > 5000)).select(df_new.district).show()"
   ]
  },
  {
   "cell_type": "markdown",
   "metadata": {},
   "source": [
    "###  state wise ratio of annual natual discharge and net annual ground water availability in descending order"
   ]
  },
  {
   "cell_type": "code",
   "execution_count": 59,
   "metadata": {},
   "outputs": [
    {
     "name": "stdout",
     "output_type": "stream",
     "text": [
      "+--------------------+----------------------------------------------------------------------+\n",
      "|               state|annual natural discharge to net annual ground water availability ratio|\n",
      "+--------------------+----------------------------------------------------------------------+\n",
      "|          LAKSADWEEP|                                                                 201.0|\n",
      "|                 GOA|                                                                  67.0|\n",
      "|           KARNATAKA|                                                                  15.0|\n",
      "|              KERALA|                                                                  11.0|\n",
      "|             MIZORAM|                                                                  11.0|\n",
      "|           MEGHALAYA|                                                                  11.0|\n",
      "|           TAMILNADU|                                                                  11.0|\n",
      "|           RAJASTHAN|                                                                  11.0|\n",
      "|      CHANDIGARH(UT)|                                                                  11.0|\n",
      "|               ASSAM|                                                                  11.0|\n",
      "|   ARUNACHAL PRADESH|                                                                  11.0|\n",
      "|               DELHI|                                                                  11.0|\n",
      "|             MANIPUR|                                                                  11.0|\n",
      "|          PUDUCHERRY|                                                                  11.0|\n",
      "|            NAGALAND|                                                                  11.0|\n",
      "|DADRA NAGAR & HAVELI|                                                                  11.0|\n",
      "|              PUNJAB|                                                                  11.0|\n",
      "|   ANDAMAN & NICOBAR|                                                                  11.0|\n",
      "|         WEST BENGAL|                                                                  10.0|\n",
      "|             HARYANA|                                                                  10.0|\n",
      "+--------------------+----------------------------------------------------------------------+\n",
      "only showing top 20 rows\n",
      "\n"
     ]
    }
   ],
   "source": [
    "d2=df_new.groupBy('state').agg(round((sum(df_new.Annual_Natural_Discharge)/sum(df_new.Net_Annual_Ground_Water_Availability))*100,0).alias('annual natural discharge to net annual ground water availability ratio'))\n",
    "d2.orderBy(d2['annual natural discharge to net annual ground water availability ratio'].desc()).show()"
   ]
  },
  {
   "cell_type": "markdown",
   "metadata": {},
   "source": [
    "### aggregation on multiple columns"
   ]
  },
  {
   "cell_type": "code",
   "execution_count": 60,
   "metadata": {},
   "outputs": [
    {
     "name": "stdout",
     "output_type": "stream",
     "text": [
      "+--------------+---------------+-----------------------------------------------------------+\n",
      "|         state|       district|minimum ground water availability for future irrigation use|\n",
      "+--------------+---------------+-----------------------------------------------------------+\n",
      "|        PUNJAB|        Sangrur|                                                  -194037.0|\n",
      "|        PUNJAB|      Jalandhar|                                                  -143499.0|\n",
      "|        PUNJAB|        Patiala|                                                  -138803.0|\n",
      "|        PUNJAB|       Ludhiana|                                                  -134069.0|\n",
      "|        PUNJAB|           Moga|                                                  -125299.0|\n",
      "|       HARYANA|    Kurukshetra|                                                   -94516.0|\n",
      "|        PUNJAB|     Kapurthala|                                                   -78511.0|\n",
      "|       HARYANA|        Kaithal|                                                   -68845.0|\n",
      "|        PUNJAB|      Ferozepur|                                                   -61481.0|\n",
      "|        PUNJAB|        Barnala|                                                   -58117.0|\n",
      "|        PUNJAB|Fatehgarh Sahib|                                                   -53670.0|\n",
      "|       HARYANA|      Fatehabad|                                                   -52943.0|\n",
      "|        PUNJAB|     Tarn Taran|                                                   -48381.0|\n",
      "|       HARYANA|          Sirsa|                                                   -47922.0|\n",
      "|        PUNJAB|       Amritsar|                                                   -47391.0|\n",
      "|       HARYANA|        Bhiwani|                                                   -43690.0|\n",
      "|        PUNJAB|      Gurdaspur|                                                   -39799.0|\n",
      "|        PUNJAB|          Mansa|                                                   -39791.0|\n",
      "|        PUNJAB|       Faridkot|                                                   -37157.0|\n",
      "|MADHYA PRADESH|         Ratlam|                                                   -21775.0|\n",
      "+--------------+---------------+-----------------------------------------------------------+\n",
      "only showing top 20 rows\n",
      "\n"
     ]
    }
   ],
   "source": [
    "d3=df_new.select(['state','district','Ground_Water_Availability_for_Future_Irrigation_use']).groupBy('state','district').agg(round(min(df_new.Ground_Water_Availability_for_Future_Irrigation_use),1).alias('minimum ground water availability for future irrigation use'))\n",
    "d3.orderBy(d3['minimum ground water availability for future irrigation use'].asc()).show()"
   ]
  },
  {
   "cell_type": "code",
   "execution_count": null,
   "metadata": {},
   "outputs": [],
   "source": []
  }
 ],
 "metadata": {
  "kernelspec": {
   "display_name": "Python 3",
   "language": "python",
   "name": "python3"
  },
  "language_info": {
   "codemirror_mode": {
    "name": "ipython",
    "version": 3
   },
   "file_extension": ".py",
   "mimetype": "text/x-python",
   "name": "python",
   "nbconvert_exporter": "python",
   "pygments_lexer": "ipython3",
   "version": "3.7.4"
  }
 },
 "nbformat": 4,
 "nbformat_minor": 2
}
